{
 "cells": [
  {
   "cell_type": "code",
   "execution_count": 1,
   "metadata": {},
   "outputs": [],
   "source": [
    "from fastai import *\n",
    "from torch.nn import init\n",
    "from fastai.callbacks import *\n",
    "from fastai.tabular import *"
   ]
  },
  {
   "cell_type": "code",
   "execution_count": 2,
   "metadata": {},
   "outputs": [],
   "source": [
    "PATH = \"data/house\""
   ]
  },
  {
   "cell_type": "code",
   "execution_count": 3,
   "metadata": {},
   "outputs": [],
   "source": [
    "df = pd.read_csv(f'{PATH}/train.csv')\n",
    "df_test = pd.read_csv(f'{PATH}/test.csv')"
   ]
  },
  {
   "cell_type": "code",
   "execution_count": 8,
   "metadata": {},
   "outputs": [
    {
     "name": "stdout",
     "output_type": "stream",
     "text": [
      "   Id  MSSubClass MSZoning  LotFrontage  LotArea Street Alley LotShape  \\\n",
      "0   1          60       RL         65.0     8450   Pave   NaN      Reg   \n",
      "1   2          20       RL         80.0     9600   Pave   NaN      Reg   \n",
      "2   3          60       RL         68.0    11250   Pave   NaN      IR1   \n",
      "3   4          70       RL         60.0     9550   Pave   NaN      IR1   \n",
      "4   5          60       RL         84.0    14260   Pave   NaN      IR1   \n",
      "5   6          50       RL         85.0    14115   Pave   NaN      IR1   \n",
      "6   7          20       RL         75.0    10084   Pave   NaN      Reg   \n",
      "7   8          60       RL          NaN    10382   Pave   NaN      IR1   \n",
      "8   9          50       RM         51.0     6120   Pave   NaN      Reg   \n",
      "9  10         190       RL         50.0     7420   Pave   NaN      Reg   \n",
      "\n",
      "  LandContour Utilities  ... PoolArea PoolQC  Fence MiscFeature MiscVal  \\\n",
      "0         Lvl    AllPub  ...        0    NaN    NaN         NaN       0   \n",
      "1         Lvl    AllPub  ...        0    NaN    NaN         NaN       0   \n",
      "2         Lvl    AllPub  ...        0    NaN    NaN         NaN       0   \n",
      "3         Lvl    AllPub  ...        0    NaN    NaN         NaN       0   \n",
      "4         Lvl    AllPub  ...        0    NaN    NaN         NaN       0   \n",
      "5         Lvl    AllPub  ...        0    NaN  MnPrv        Shed     700   \n",
      "6         Lvl    AllPub  ...        0    NaN    NaN         NaN       0   \n",
      "7         Lvl    AllPub  ...        0    NaN    NaN        Shed     350   \n",
      "8         Lvl    AllPub  ...        0    NaN    NaN         NaN       0   \n",
      "9         Lvl    AllPub  ...        0    NaN    NaN         NaN       0   \n",
      "\n",
      "  MoSold YrSold  SaleType  SaleCondition  SalePrice  \n",
      "0      2   2008        WD         Normal     208500  \n",
      "1      5   2007        WD         Normal     181500  \n",
      "2      9   2008        WD         Normal     223500  \n",
      "3      2   2006        WD        Abnorml     140000  \n",
      "4     12   2008        WD         Normal     250000  \n",
      "5     10   2009        WD         Normal     143000  \n",
      "6      8   2007        WD         Normal     307000  \n",
      "7     11   2009        WD         Normal     200000  \n",
      "8      4   2008        WD        Abnorml     129900  \n",
      "9      1   2008        WD         Normal     118000  \n",
      "\n",
      "[10 rows x 81 columns]\n"
     ]
    }
   ],
   "source": [
    "print(df[:10])"
   ]
  },
  {
   "cell_type": "code",
   "execution_count": 9,
   "metadata": {},
   "outputs": [
    {
     "data": {
      "text/plain": [
       "0       208500\n",
       "1       181500\n",
       "2       223500\n",
       "3       140000\n",
       "4       250000\n",
       "5       143000\n",
       "6       307000\n",
       "7       200000\n",
       "8       129900\n",
       "9       118000\n",
       "10      129500\n",
       "11      345000\n",
       "12      144000\n",
       "13      279500\n",
       "14      157000\n",
       "15      132000\n",
       "16      149000\n",
       "17       90000\n",
       "18      159000\n",
       "19      139000\n",
       "20      325300\n",
       "21      139400\n",
       "22      230000\n",
       "23      129900\n",
       "24      154000\n",
       "25      256300\n",
       "26      134800\n",
       "27      306000\n",
       "28      207500\n",
       "29       68500\n",
       "         ...  \n",
       "1430    192140\n",
       "1431    143750\n",
       "1432     64500\n",
       "1433    186500\n",
       "1434    160000\n",
       "1435    174000\n",
       "1436    120500\n",
       "1437    394617\n",
       "1438    149700\n",
       "1439    197000\n",
       "1440    191000\n",
       "1441    149300\n",
       "1442    310000\n",
       "1443    121000\n",
       "1444    179600\n",
       "1445    129000\n",
       "1446    157900\n",
       "1447    240000\n",
       "1448    112000\n",
       "1449     92000\n",
       "1450    136000\n",
       "1451    287090\n",
       "1452    145000\n",
       "1453     84500\n",
       "1454    185000\n",
       "1455    175000\n",
       "1456    210000\n",
       "1457    266500\n",
       "1458    142125\n",
       "1459    147500\n",
       "Name: SalePrice, Length: 1460, dtype: int64"
      ]
     },
     "execution_count": 9,
     "metadata": {},
     "output_type": "execute_result"
    }
   ],
   "source": [
    "df.SalePrice"
   ]
  },
  {
   "cell_type": "code",
   "execution_count": 4,
   "metadata": {},
   "outputs": [],
   "source": [
    "# feature engineering\n",
    "df['totalSF'] = df['1stFlrSF'] + df['2ndFlrSF']\n",
    "df_test['totalSF'] = df_test['1stFlrSF'] + df_test['2ndFlrSF']\n",
    "\n",
    "df['TotalBath'] = df['FullBath'] + df['HalfBath']\n",
    "df['TotalBsmtBath'] = df['BsmtFullBath'] + df['BsmtHalfBath']\n",
    "df['garageAge'] = df['YrSold'] - df['GarageYrBlt']\n",
    "df['remodAge'] = df['YrSold'] - df['YearRemodAdd']\n",
    "\n",
    "\n",
    "df_test['TotalBath'] = df_test['FullBath'] + df_test['HalfBath']\n",
    "df_test['TotalBsmtBath'] = df_test['BsmtFullBath'] + df_test['BsmtHalfBath']\n",
    "df_test['garageAge'] = df_test['YrSold'] - df_test['GarageYrBlt']\n",
    "df_test['remodAge'] = df_test['YrSold'] - df_test['YearRemodAdd']\n",
    "\n",
    "\n",
    "df['age'] = df['YrSold'] - df['YearBuilt']\n",
    "df_test['age'] = df['YrSold'] - df['YearBuilt']\n",
    "\n",
    "season_dict = { 1 : 3, 2 : 3, 3 : 0, 4 : 0, 5 : 0, 6 : 1, 7 : 1, 8 : 1, 9 : 2, 10 : 2, 11 : 2, 12 : 3}\n",
    "holiday_dict = { 1 : 1, 2 : 1, 3 : 0, 4 : 1, 5 : 2, 6 : 1, 7 : 1, 8 : 0, 9 : 1, 10 : 1, 11 : 3, 12 : 1}\n",
    "df['holidays'] = 0\n",
    "df['season'] = 0\n",
    "for i in range(len(df)):    \n",
    "    df.at[i, 'holidays'] = holiday_dict[df.loc[i]['MoSold']]\n",
    "    df.at[i, 'season'] = season_dict[df.loc[i]['MoSold']]    \n",
    "\n",
    "    \n",
    "df_test['holidays'] = 0\n",
    "df_test['season'] = 0\n",
    "for i in range(len(df_test)):    \n",
    "    df_test.at[i, 'season'] = season_dict[df_test.loc[i]['MoSold']]    \n",
    "    df_test.at[i, 'holidays'] = holiday_dict[df_test.loc[i]['MoSold']]    \n",
    "    \n",
    "prop_id = df_test.Id.values  \n",
    "df.drop(['Id'], axis=1, inplace=True)\n",
    "df_test.drop(columns=['Id'], inplace=True)\n",
    "\n",
    "df.drop(['Utilities'], axis=1, inplace=True)\n",
    "df_test.drop(columns=['Utilities'], inplace=True)\n",
    "\n",
    "df.drop(['YrSold'], axis=1, inplace=True)\n",
    "df_test.drop(columns=['YrSold'], inplace=True)\n",
    "\n",
    "df.drop(['YearBuilt'], axis=1, inplace=True)\n",
    "df_test.drop(columns=['YearBuilt'], inplace=True)\n",
    "\n",
    "df.drop(['YearRemodAdd'], axis=1, inplace=True)\n",
    "df_test.drop(columns=['YearRemodAdd'], inplace=True)\n"
   ]
  },
  {
   "cell_type": "code",
   "execution_count": 5,
   "metadata": {},
   "outputs": [],
   "source": [
    "# use_cols = ['OverallQual',\n",
    "#  'totalSF',\n",
    "#  'GarageCars',\n",
    "#  'GrLivArea',\n",
    "#  'TotalBsmtSF',\n",
    "#  'ExterQual',\n",
    "#  'age',\n",
    "#  'BsmtFinSF1',\n",
    "#  '1stFlrSF',\n",
    "#  'GarageArea',\n",
    "#  'LotArea',\n",
    "#  'KitchenQual',\n",
    "#  'FullBath',\n",
    "#  'TotRmsAbvGrd',\n",
    "#  'remodAge',\n",
    "#  '2ndFlrSF',\n",
    "#  'MoSold',\n",
    "#  'MasVnrArea',\n",
    "#  'GarageYrBlt',\n",
    "#  'TotalBath',\n",
    "#  'BsmtQual',\n",
    "#  'Neighborhood',\n",
    "#  'Fireplaces',\n",
    "#  'WoodDeckSF',\n",
    "#  'CentralAir',\n",
    "#  'LotFrontage',\n",
    "#  'BsmtUnfSF',\n",
    "#  'OpenPorchSF',\n",
    "#  'FireplaceQu',\n",
    "#  'garageAge',\n",
    "#  'GarageType',\n",
    "#  'LotShape',\n",
    "#  'BedroomAbvGr',\n",
    "#  'MSZoning',\n",
    "#  'MSSubClass',\n",
    "#  'Exterior1st',\n",
    "#  'OverallCond',\n",
    "#  'TotalBsmtBath',\n",
    "# 'SalePrice',\n",
    "#  'BsmtExposure']"
   ]
  },
  {
   "cell_type": "code",
   "execution_count": 6,
   "metadata": {},
   "outputs": [],
   "source": [
    "cat_names = ['MSZoning', 'Street', 'Alley', 'LotShape', 'LandContour', 'LotConfig', 'LandSlope', 'Neighborhood', 'Condition1', 'Condition2', 'BldgType', 'HouseStyle', 'RoofStyle', 'RoofMatl', 'Exterior1st', 'Exterior2nd', 'MasVnrType', 'ExterQual', 'ExterCond', 'Foundation', 'BsmtQual', 'BsmtCond', 'BsmtExposure', 'BsmtFinType1', 'BsmtFinType2', 'Heating', 'HeatingQC', 'CentralAir', 'Electrical', 'KitchenQual', 'Functional', 'FireplaceQu', 'GarageType', 'GarageFinish', 'GarageQual', 'GarageCond', 'PavedDrive', 'PoolQC', 'Fence', 'MiscFeature', 'SaleType', 'SaleCondition', 'MSSubClass', 'OverallQual', 'OverallCond', 'BsmtFullBath', 'BsmtHalfBath', 'FullBath', 'HalfBath', 'BedroomAbvGr', 'KitchenAbvGr', 'TotRmsAbvGrd', 'Fireplaces', 'GarageYrBlt', 'GarageCars', 'MoSold', 'season', 'holidays', 'TotalBath', 'TotalBsmtBath', 'garageAge', 'remodAge']\n",
    "cont_names = [ 'totalSF', 'LotFrontage', 'LotArea', 'MasVnrArea', 'BsmtFinSF1', 'BsmtFinSF2', 'BsmtUnfSF', 'TotalBsmtSF', '1stFlrSF', '2ndFlrSF', 'LowQualFinSF', 'GrLivArea', 'GarageArea', 'WoodDeckSF', 'OpenPorchSF', 'EnclosedPorch', '3SsnPorch', 'ScreenPorch', 'PoolArea', 'MiscVal']\n",
    "\n",
    "# cat_names = ['MSZoning', 'Street', 'Alley', 'LotShape', 'LandContour', 'Utilities', 'LotConfig', 'LandSlope', 'Neighborhood', 'Condition1', 'Condition2', 'BldgType', 'HouseStyle', 'RoofStyle', 'RoofMatl', 'Exterior1st', 'Exterior2nd', 'MasVnrType', 'ExterQual', 'ExterCond', 'Foundation', 'BsmtQual', 'BsmtCond', 'BsmtExposure', 'BsmtFinType1', 'BsmtFinType2', 'Heating', 'HeatingQC', 'CentralAir', 'Electrical', 'KitchenQual', 'Functional', 'FireplaceQu', 'GarageType', 'GarageFinish', 'GarageQual', 'GarageCond', 'PavedDrive', 'PoolQC', 'Fence', 'MiscFeature', 'SaleType', 'SaleCondition', 'MSSubClass', 'OverallQual', 'OverallCond', 'YearBuilt', 'YearRemodAdd', 'BsmtFullBath', 'BsmtHalfBath', 'FullBath', 'HalfBath', 'BedroomAbvGr', 'KitchenAbvGr', 'TotRmsAbvGrd', 'Fireplaces', 'GarageYrBlt', 'GarageCars', 'MoSold', 'YrSold', 'season', 'holidays']\n",
    "# cont_names = [ 'LotFrontage', 'LotArea', 'MasVnrArea', 'BsmtFinSF1', 'BsmtFinSF2', 'BsmtUnfSF', 'TotalBsmtSF', '1stFlrSF', '2ndFlrSF', 'LowQualFinSF', 'GrLivArea', 'GarageArea', 'WoodDeckSF', 'OpenPorchSF', 'EnclosedPorch', '3SsnPorch', 'ScreenPorch', 'PoolArea', 'MiscVal']"
   ]
  },
  {
   "cell_type": "code",
   "execution_count": null,
   "metadata": {},
   "outputs": [],
   "source": [
    "# cat_names = list(set(cat_names).intersection(set(use_cols)))\n",
    "# cont_names = list(set(cont_names).intersection(set(use_cols)))"
   ]
  },
  {
   "cell_type": "code",
   "execution_count": null,
   "metadata": {},
   "outputs": [],
   "source": [
    "# df = df[use_cols]\n",
    "# df_test = df_test[set(use_cols) - set(['SalePrice'])]"
   ]
  },
  {
   "cell_type": "code",
   "execution_count": null,
   "metadata": {},
   "outputs": [],
   "source": [
    "# imp_cols = []\n",
    "# for c in df.columns:\n",
    "#     if  df[c].isnull().value_counts()[0] == len(df):\n",
    "#         imp_cols.append(c)\n",
    "#         #print(\"column has no nan \", c)\n",
    "# drop_names = set(df.columns) - set(imp_cols)\n",
    "# for c in drop_names:\n",
    "#     df.drop(c, inplace=True, axis=1)\n",
    "#     df_test.drop(c, inplace=True, axis=1) \n",
    "# cat_names = list(set(cat_names) - set(drop_names))\n",
    "# cont_names = list(set(cont_names) - set(drop_names))"
   ]
  },
  {
   "cell_type": "code",
   "execution_count": null,
   "metadata": {},
   "outputs": [],
   "source": [
    "prop_id"
   ]
  },
  {
   "cell_type": "code",
   "execution_count": 7,
   "metadata": {},
   "outputs": [],
   "source": [
    "x, y = {}, {}\n",
    "nan_values = {}\n",
    "for c in df.columns:\n",
    "    if c != \"SalePrice\":\n",
    "        x[c] = df[c].isnull().value_counts()[0]\n",
    "        y[c] = df_test[c].isnull().value_counts()[0]\n",
    "        if x[c] == len(df):\n",
    "            if y[c] != len(df_test):\n",
    "                #print(\"Nan columns found in test_set \", c , \" count \", y[c], \" type \", df_test[c].dtype)\n",
    "                nan_values[c] = 0.0\n",
    "        #print(\"column train \", c, df[c].isnull().value_counts()[0]/len(df), \" test  \", df_test[c].isnull().value_counts()[0]/len(df))\n",
    "# sorted_x = sorted(x.items(), key=operator.itemgetter(1))\n",
    "# sorted_y = sorted(y.items(), key=operator.itemgetter(1))\n",
    "# print(\"Training Set\")\n",
    "# for k, v in (sorted_x):\n",
    "#     print(k, \" \", v)\n",
    "\n",
    "# print(\"\\n\\nTest Set\")\n",
    "# for k, v in (sorted_y):\n",
    "#     print(k, \" \", v)\n",
    "\n",
    "\n",
    "# fill na values\n",
    "df_test.fillna(value=nan_values, inplace=True)"
   ]
  },
  {
   "cell_type": "code",
   "execution_count": 8,
   "metadata": {},
   "outputs": [],
   "source": [
    "for c in cat_names:        \n",
    "    df[c] = df[c].apply(str, convert_dtype=True)\n",
    "    df_test[c] = df_test[c].apply(str, convert_dtype=True)"
   ]
  },
  {
   "cell_type": "code",
   "execution_count": 9,
   "metadata": {},
   "outputs": [],
   "source": [
    "df.SalePrice = np.log(df.SalePrice)"
   ]
  },
  {
   "cell_type": "code",
   "execution_count": 10,
   "metadata": {},
   "outputs": [],
   "source": [
    "dep_var = 'SalePrice'\n",
    "procs = [FillMissing, Categorify, Normalize]"
   ]
  },
  {
   "cell_type": "code",
   "execution_count": 11,
   "metadata": {},
   "outputs": [],
   "source": [
    "TARGET_PATH = PATH"
   ]
  },
  {
   "cell_type": "code",
   "execution_count": null,
   "metadata": {},
   "outputs": [],
   "source": [
    "#test = TabularList.from_df(df_test, path=TARGET_PATH, cat_names=cat_names)"
   ]
  },
  {
   "cell_type": "code",
   "execution_count": 12,
   "metadata": {},
   "outputs": [],
   "source": [
    "test_data = TabularList.from_df(df_test, path=PATH, cat_names=cat_names, cont_names=cont_names)\n",
    "data = (TabularList.from_df(df, path=TARGET_PATH, cat_names=cat_names, cont_names=cont_names, procs=procs)\n",
    "                           .split_subsets(train_size=0.8, valid_size=0.2)\n",
    "                           .label_from_df(cols=dep_var, label_cls=FloatList)            \n",
    "                           .add_test(test_data, 0)\n",
    "                           .databunch(bs=1168))\n"
   ]
  },
  {
   "cell_type": "code",
   "execution_count": null,
   "metadata": {},
   "outputs": [],
   "source": [
    "# class MyRelu(nn.Module):\n",
    "#     def __init__(self, leak=None, sub=None, maxv=None):\n",
    "#         super().__init__()\n",
    "#         self.leak,self.sub,self.maxv = leak,sub,maxv\n",
    "\n",
    "#     def forward(self, x):\n",
    "#         neg = False\n",
    "#         if (x > 0).sum() < 0:\n",
    "#             neg = True\n",
    "#             x = -x\n",
    "#         x = F.relu(x)\n",
    "#         x = x.clamp_min_(-self.maxv)\n",
    "#         x = F.leaky_relu(x,self.leak) if self.leak is not None else F.relu(x)\n",
    "#         if self.sub is not None: x.sub_(self.sub)\n",
    "#         if self.maxv is not None: x.clamp_max_(self.maxv)\n",
    "#         if neg:\n",
    "#             x = -x\n",
    "#         return x"
   ]
  },
  {
   "cell_type": "code",
   "execution_count": null,
   "metadata": {},
   "outputs": [],
   "source": [
    "#emb_szs = [(6, 4), (3, 3), (4, 3), (5, 4), (5, 4), (2, 2), (6, 4), (4, 3), (26, 10), (10, 6), (7, 5), (6, 4), (9, 5), (7, 5), (9, 5), (15, 7), (17, 8), (6, 4), (5, 4), (6, 4), (7, 5), (6, 4), (6, 4), (6, 4), (8, 5), (8, 5), (7, 5), (5, 4), (3, 3), (7, 5), (5, 4), (7, 5), (7, 5), (8, 5), (5, 4), (7, 5), (7, 5), (4, 3), (5, 4), (6, 4), (6, 4), (9, 5), (7, 5), (16, 8), (11, 6), (10, 6), (111, 22), (62, 16), (5, 4), (4, 3), (5, 4), (4, 3), (9, 5), (5, 4), (12, 6), (5, 4), (99, 21), (6, 4), (13, 7), (6, 4), (3, 3), (3, 3)]\n"
   ]
  },
  {
   "cell_type": "code",
   "execution_count": null,
   "metadata": {},
   "outputs": [],
   "source": [
    "# model = TabularModel(emb_szs, len(data.cont_names), out_sz=data.c, layers=[1000,200], ps=None, emb_drop=0.25,\n",
    "#                      y_range=[11, 14], use_bn=False)\n",
    "# learn = Learner(data, model, metrics=[RMSE(),], wd=0.1)\n",
    "# learn.loss_fn = F.mse_loss"
   ]
  },
  {
   "cell_type": "code",
   "execution_count": 32,
   "metadata": {},
   "outputs": [],
   "source": [
    "learn = tabular_learner(data, layers=[700, 400, 150,100, 75, 25], y_range=[10.5, 13.5], use_bn=True)\n",
    "# new_layers = nn.Sequential(\n",
    "#     nn.Linear(in_features=learn.model.layers[0].in_features, out_features=1000, bias=False), \n",
    "#     #MyRelu(0.3, 0.5, 5.0),\n",
    "#     nn.LeakyReLU(0.1),\n",
    "#     #nn.BatchNorm1d(700, eps=1e-05, momentum=0.1, affine=True, track_running_stats=True),\n",
    "#     nn.Linear(in_features=1000, out_features=100, bias=False),\n",
    "#     #MyRelu(0.1, 0.5, 5.0),\n",
    "#     nn.LeakyReLU(0.1),    \n",
    "# #     nn.ReLU(),    \n",
    "#     #nn.BatchNorm1d(100, eps=1e-05, momentum=0.1, affine=True, track_running_stats=True),\n",
    "#     nn.Linear(in_features=100, out_features=1, bias=False)    \n",
    "# )\n",
    "# learn.model.layers = new_layers\n",
    "learn.loss_fn = F.mse_loss\n",
    "learn.metrics = [RMSE(),]\n",
    "\n",
    "for l in learn.model.modules():\n",
    "    if isinstance(l, nn.Linear):\n",
    "        init.kaiming_normal_(l.weight, a=0.1)"
   ]
  },
  {
   "cell_type": "code",
   "execution_count": 34,
   "metadata": {},
   "outputs": [
    {
     "data": {
      "text/html": [
       "Total time: 00:27 <p><table border=\"1\" class=\"dataframe\">\n",
       "  <thead>\n",
       "    <tr style=\"text-align: left;\">\n",
       "      <th>epoch</th>\n",
       "      <th>train_loss</th>\n",
       "      <th>valid_loss</th>\n",
       "      <th>rmse</th>\n",
       "      <th>time</th>\n",
       "    </tr>\n",
       "  </thead>\n",
       "  <tbody>\n",
       "    <tr>\n",
       "      <td>0</td>\n",
       "      <td>0.000762</td>\n",
       "      <td>0.016747</td>\n",
       "      <td>0.129410</td>\n",
       "      <td>00:00</td>\n",
       "    </tr>\n",
       "    <tr>\n",
       "      <td>1</td>\n",
       "      <td>0.000761</td>\n",
       "      <td>0.016616</td>\n",
       "      <td>0.128903</td>\n",
       "      <td>00:00</td>\n",
       "    </tr>\n",
       "    <tr>\n",
       "      <td>2</td>\n",
       "      <td>0.000759</td>\n",
       "      <td>0.016519</td>\n",
       "      <td>0.128526</td>\n",
       "      <td>00:00</td>\n",
       "    </tr>\n",
       "    <tr>\n",
       "      <td>3</td>\n",
       "      <td>0.000758</td>\n",
       "      <td>0.016444</td>\n",
       "      <td>0.128232</td>\n",
       "      <td>00:00</td>\n",
       "    </tr>\n",
       "    <tr>\n",
       "      <td>4</td>\n",
       "      <td>0.000754</td>\n",
       "      <td>0.016389</td>\n",
       "      <td>0.128020</td>\n",
       "      <td>00:00</td>\n",
       "    </tr>\n",
       "    <tr>\n",
       "      <td>5</td>\n",
       "      <td>0.000750</td>\n",
       "      <td>0.016342</td>\n",
       "      <td>0.127835</td>\n",
       "      <td>00:00</td>\n",
       "    </tr>\n",
       "    <tr>\n",
       "      <td>6</td>\n",
       "      <td>0.000744</td>\n",
       "      <td>0.016298</td>\n",
       "      <td>0.127664</td>\n",
       "      <td>00:00</td>\n",
       "    </tr>\n",
       "    <tr>\n",
       "      <td>7</td>\n",
       "      <td>0.000736</td>\n",
       "      <td>0.016257</td>\n",
       "      <td>0.127504</td>\n",
       "      <td>00:00</td>\n",
       "    </tr>\n",
       "    <tr>\n",
       "      <td>8</td>\n",
       "      <td>0.000727</td>\n",
       "      <td>0.016222</td>\n",
       "      <td>0.127364</td>\n",
       "      <td>00:00</td>\n",
       "    </tr>\n",
       "    <tr>\n",
       "      <td>9</td>\n",
       "      <td>0.000716</td>\n",
       "      <td>0.016197</td>\n",
       "      <td>0.127268</td>\n",
       "      <td>00:00</td>\n",
       "    </tr>\n",
       "    <tr>\n",
       "      <td>10</td>\n",
       "      <td>0.000706</td>\n",
       "      <td>0.016189</td>\n",
       "      <td>0.127234</td>\n",
       "      <td>00:00</td>\n",
       "    </tr>\n",
       "    <tr>\n",
       "      <td>11</td>\n",
       "      <td>0.000695</td>\n",
       "      <td>0.016195</td>\n",
       "      <td>0.127258</td>\n",
       "      <td>00:00</td>\n",
       "    </tr>\n",
       "    <tr>\n",
       "      <td>12</td>\n",
       "      <td>0.000684</td>\n",
       "      <td>0.016215</td>\n",
       "      <td>0.127340</td>\n",
       "      <td>00:00</td>\n",
       "    </tr>\n",
       "    <tr>\n",
       "      <td>13</td>\n",
       "      <td>0.000673</td>\n",
       "      <td>0.016251</td>\n",
       "      <td>0.127479</td>\n",
       "      <td>00:00</td>\n",
       "    </tr>\n",
       "    <tr>\n",
       "      <td>14</td>\n",
       "      <td>0.000661</td>\n",
       "      <td>0.016296</td>\n",
       "      <td>0.127654</td>\n",
       "      <td>00:00</td>\n",
       "    </tr>\n",
       "    <tr>\n",
       "      <td>15</td>\n",
       "      <td>0.000649</td>\n",
       "      <td>0.016348</td>\n",
       "      <td>0.127860</td>\n",
       "      <td>00:00</td>\n",
       "    </tr>\n",
       "    <tr>\n",
       "      <td>16</td>\n",
       "      <td>0.000637</td>\n",
       "      <td>0.016404</td>\n",
       "      <td>0.128077</td>\n",
       "      <td>00:00</td>\n",
       "    </tr>\n",
       "    <tr>\n",
       "      <td>17</td>\n",
       "      <td>0.000625</td>\n",
       "      <td>0.016458</td>\n",
       "      <td>0.128288</td>\n",
       "      <td>00:00</td>\n",
       "    </tr>\n",
       "    <tr>\n",
       "      <td>18</td>\n",
       "      <td>0.000613</td>\n",
       "      <td>0.016509</td>\n",
       "      <td>0.128488</td>\n",
       "      <td>00:00</td>\n",
       "    </tr>\n",
       "    <tr>\n",
       "      <td>19</td>\n",
       "      <td>0.000601</td>\n",
       "      <td>0.016555</td>\n",
       "      <td>0.128665</td>\n",
       "      <td>00:00</td>\n",
       "    </tr>\n",
       "    <tr>\n",
       "      <td>20</td>\n",
       "      <td>0.000590</td>\n",
       "      <td>0.016594</td>\n",
       "      <td>0.128816</td>\n",
       "      <td>00:00</td>\n",
       "    </tr>\n",
       "    <tr>\n",
       "      <td>21</td>\n",
       "      <td>0.000579</td>\n",
       "      <td>0.016628</td>\n",
       "      <td>0.128948</td>\n",
       "      <td>00:00</td>\n",
       "    </tr>\n",
       "    <tr>\n",
       "      <td>22</td>\n",
       "      <td>0.000568</td>\n",
       "      <td>0.016654</td>\n",
       "      <td>0.129052</td>\n",
       "      <td>00:00</td>\n",
       "    </tr>\n",
       "    <tr>\n",
       "      <td>23</td>\n",
       "      <td>0.000558</td>\n",
       "      <td>0.016675</td>\n",
       "      <td>0.129134</td>\n",
       "      <td>00:00</td>\n",
       "    </tr>\n",
       "    <tr>\n",
       "      <td>24</td>\n",
       "      <td>0.000548</td>\n",
       "      <td>0.016692</td>\n",
       "      <td>0.129196</td>\n",
       "      <td>00:00</td>\n",
       "    </tr>\n",
       "    <tr>\n",
       "      <td>25</td>\n",
       "      <td>0.000538</td>\n",
       "      <td>0.016703</td>\n",
       "      <td>0.129240</td>\n",
       "      <td>00:00</td>\n",
       "    </tr>\n",
       "    <tr>\n",
       "      <td>26</td>\n",
       "      <td>0.000529</td>\n",
       "      <td>0.016710</td>\n",
       "      <td>0.129269</td>\n",
       "      <td>00:00</td>\n",
       "    </tr>\n",
       "    <tr>\n",
       "      <td>27</td>\n",
       "      <td>0.000520</td>\n",
       "      <td>0.016714</td>\n",
       "      <td>0.129284</td>\n",
       "      <td>00:00</td>\n",
       "    </tr>\n",
       "    <tr>\n",
       "      <td>28</td>\n",
       "      <td>0.000511</td>\n",
       "      <td>0.016716</td>\n",
       "      <td>0.129291</td>\n",
       "      <td>00:00</td>\n",
       "    </tr>\n",
       "    <tr>\n",
       "      <td>29</td>\n",
       "      <td>0.000503</td>\n",
       "      <td>0.016716</td>\n",
       "      <td>0.129289</td>\n",
       "      <td>00:00</td>\n",
       "    </tr>\n",
       "    <tr>\n",
       "      <td>30</td>\n",
       "      <td>0.000495</td>\n",
       "      <td>0.016713</td>\n",
       "      <td>0.129280</td>\n",
       "      <td>00:00</td>\n",
       "    </tr>\n",
       "    <tr>\n",
       "      <td>31</td>\n",
       "      <td>0.000487</td>\n",
       "      <td>0.016710</td>\n",
       "      <td>0.129266</td>\n",
       "      <td>00:00</td>\n",
       "    </tr>\n",
       "    <tr>\n",
       "      <td>32</td>\n",
       "      <td>0.000480</td>\n",
       "      <td>0.016705</td>\n",
       "      <td>0.129247</td>\n",
       "      <td>00:00</td>\n",
       "    </tr>\n",
       "    <tr>\n",
       "      <td>33</td>\n",
       "      <td>0.000473</td>\n",
       "      <td>0.016699</td>\n",
       "      <td>0.129224</td>\n",
       "      <td>00:00</td>\n",
       "    </tr>\n",
       "    <tr>\n",
       "      <td>34</td>\n",
       "      <td>0.000466</td>\n",
       "      <td>0.016692</td>\n",
       "      <td>0.129198</td>\n",
       "      <td>00:00</td>\n",
       "    </tr>\n",
       "    <tr>\n",
       "      <td>35</td>\n",
       "      <td>0.000460</td>\n",
       "      <td>0.016685</td>\n",
       "      <td>0.129170</td>\n",
       "      <td>00:00</td>\n",
       "    </tr>\n",
       "    <tr>\n",
       "      <td>36</td>\n",
       "      <td>0.000454</td>\n",
       "      <td>0.016678</td>\n",
       "      <td>0.129142</td>\n",
       "      <td>00:00</td>\n",
       "    </tr>\n",
       "    <tr>\n",
       "      <td>37</td>\n",
       "      <td>0.000448</td>\n",
       "      <td>0.016670</td>\n",
       "      <td>0.129113</td>\n",
       "      <td>00:00</td>\n",
       "    </tr>\n",
       "    <tr>\n",
       "      <td>38</td>\n",
       "      <td>0.000443</td>\n",
       "      <td>0.016663</td>\n",
       "      <td>0.129086</td>\n",
       "      <td>00:00</td>\n",
       "    </tr>\n",
       "    <tr>\n",
       "      <td>39</td>\n",
       "      <td>0.000438</td>\n",
       "      <td>0.016657</td>\n",
       "      <td>0.129061</td>\n",
       "      <td>00:00</td>\n",
       "    </tr>\n",
       "  </tbody>\n",
       "</table>"
      ],
      "text/plain": [
       "<IPython.core.display.HTML object>"
      ]
     },
     "metadata": {},
     "output_type": "display_data"
    },
    {
     "name": "stdout",
     "output_type": "stream",
     "text": [
      "Better model found at epoch 0 with val_loss value: 0.016746841371059418.\n",
      "Better model found at epoch 1 with val_loss value: 0.01661604270339012.\n",
      "Better model found at epoch 2 with val_loss value: 0.016518857330083847.\n",
      "Better model found at epoch 3 with val_loss value: 0.016443565487861633.\n",
      "Better model found at epoch 4 with val_loss value: 0.016389036551117897.\n",
      "Better model found at epoch 5 with val_loss value: 0.01634177565574646.\n",
      "Better model found at epoch 6 with val_loss value: 0.016297992318868637.\n",
      "Better model found at epoch 7 with val_loss value: 0.01625729538500309.\n",
      "Better model found at epoch 8 with val_loss value: 0.01622156798839569.\n",
      "Better model found at epoch 9 with val_loss value: 0.016197210177779198.\n",
      "Better model found at epoch 10 with val_loss value: 0.0161886028945446.\n"
     ]
    }
   ],
   "source": [
    "#learn.fit_one_cycle(1, 0.01, callbacks=[ActivationStats(learn), SaveModelCallback(learn)])\n",
    "#learn.fit_one_cycle(cyc_len=8, max_lr=[0.1,], callbacks=[ActivationStats(learn), SaveModelCallback(learn)])\n",
    "learn.fit_one_cycle(40, 0.01, callbacks=[ActivationStats(learn), SaveModelCallback(learn)])\n",
    "#learn.fit_one_cycle(cyc_len=24, max_lr=[0.001,], callbacks=[ActivationStats(learn), SaveModelCallback(learn)])"
   ]
  },
  {
   "cell_type": "code",
   "execution_count": null,
   "metadata": {},
   "outputs": [],
   "source": [
    "#learn.fit_one_cycle(100, 0.01, callbacks=[actStats, saveModelCallback])"
   ]
  },
  {
   "cell_type": "code",
   "execution_count": 26,
   "metadata": {},
   "outputs": [
    {
     "data": {
      "text/plain": [
       "torch.Size([1168, 20])"
      ]
     },
     "execution_count": 26,
     "metadata": {},
     "output_type": "execute_result"
    }
   ],
   "source": [
    "next(iter(data.train_dl))[0][1].shape"
   ]
  },
  {
   "cell_type": "code",
   "execution_count": 35,
   "metadata": {},
   "outputs": [
    {
     "data": {
      "image/png": "[encoded data removed]",
      "text/plain": [
       "<Figure size 720x288 with 2 Axes>"
      ]
     },
     "metadata": {
      "needs_background": "light"
     },
     "output_type": "display_data"
    }
   ],
   "source": [
    "fig,(ax0,ax1) = plt.subplots(1,2, figsize=(10,4))\n",
    "ms,ss = learn.activation_stats.stats\n",
    "# ax0.plot(ms[0:10])\n",
    "# ax1.plot(ss[0:10])\n",
    "\n",
    "ax0.plot(ms)\n",
    "ax1.plot(ss)\n",
    "\n",
    "plt.legend(range(20));"
   ]
  },
  {
   "cell_type": "code",
   "execution_count": 29,
   "metadata": {},
   "outputs": [
    {
     "data": {
      "text/plain": [
       "torch.Size([68, 40])"
      ]
     },
     "execution_count": 29,
     "metadata": {},
     "output_type": "execute_result"
    }
   ],
   "source": [
    "ss.shape"
   ]
  },
  {
   "cell_type": "code",
   "execution_count": null,
   "metadata": {},
   "outputs": [],
   "source": [
    "from exp.nb_07a import *"
   ]
  },
  {
   "cell_type": "code",
   "execution_count": null,
   "metadata": {},
   "outputs": [],
   "source": [
    "def append_stat(hook, mod, inp, outp):\n",
    "    d = outp.data\n",
    "    hook.mean,hook.std = d.mean().item(),d.std().item()"
   ]
  },
  {
   "cell_type": "code",
   "execution_count": null,
   "metadata": {},
   "outputs": [],
   "source": [
    "class Hook1():\n",
    "    def __init__(self, m, f): \n",
    "        self.hook = m.register_forward_hook(partial(f, self))\n",
    "    def remove(self): self.hook.remove()\n",
    "    def __del__(self): self.remove()"
   ]
  },
  {
   "cell_type": "code",
   "execution_count": null,
   "metadata": {},
   "outputs": [],
   "source": [
    "def lsuv_module(m):\n",
    "    h = Hook1(m, append_stat)\n",
    "\n",
    "    while learn.model(*next(iter(data.train_dl))[0]) is not None and abs(h.mean)  > 1e-3: \n",
    "        m.bias.data -= h.mean\n",
    "    while learn.model(*next(iter(data.train_dl))[0]) is not None and abs(h.std-1) > 1e-3: \n",
    "        m.weight.data /= h.std\n",
    "\n",
    "    h.remove()\n",
    "    return h.mean,h.std"
   ]
  },
  {
   "cell_type": "code",
   "execution_count": null,
   "metadata": {},
   "outputs": [],
   "source": [
    "lsuv_module(learn.model.layers[0])"
   ]
  },
  {
   "cell_type": "code",
   "execution_count": null,
   "metadata": {},
   "outputs": [],
   "source": [
    "lsuv_module(learn.model.layers[2])"
   ]
  },
  {
   "cell_type": "code",
   "execution_count": 22,
   "metadata": {},
   "outputs": [],
   "source": [
    "pred_val = learn.get_preds(ds_type=DatasetType.Test)"
   ]
  },
  {
   "cell_type": "code",
   "execution_count": null,
   "metadata": {},
   "outputs": [],
   "source": [
    "# err = {}\n",
    "# for i in range(1168, 1460):   \n",
    "#     err[abs(df.loc[i].SalePrice - pred_val[0][1168-i]).item()] = (df.loc[i], np.exp(pred_val[0][1168-i].item()), np.exp(df.loc[i].SalePrice))\n",
    "# sorted_err = sorted(err.items(), key=operator.itemgetter(0), reverse=True)\n",
    "# sorted_err"
   ]
  },
  {
   "cell_type": "code",
   "execution_count": 23,
   "metadata": {},
   "outputs": [],
   "source": [
    "df_output = pd.DataFrame( {'Id' : prop_id, 'SalePrice' : [np.exp(v.item()) for v in pred_val[0]]})"
   ]
  },
  {
   "cell_type": "code",
   "execution_count": 24,
   "metadata": {},
   "outputs": [],
   "source": [
    "df_output.to_csv(\"submission.csv\", index=False)"
   ]
  }
 ],
 "metadata": {
  "kernelspec": {
   "display_name": "Python 3",
   "language": "python",
   "name": "python3"
  },
  "language_info": {
   "codemirror_mode": {
    "name": "ipython",
    "version": 3
   },
   "file_extension": ".py",
   "mimetype": "text/x-python",
   "name": "python",
   "nbconvert_exporter": "python",
   "pygments_lexer": "ipython3",
   "version": "3.7.3"
  }
 },
 "nbformat": 4,
 "nbformat_minor": 1
}
