{
 "cells": [
  {
   "cell_type": "code",
   "execution_count": 1,
   "metadata": {},
   "outputs": [],
   "source": [
    "import torch\n",
    "import matplotlib.pyplot as plt"
   ]
  },
  {
   "cell_type": "code",
   "execution_count": 2,
   "metadata": {},
   "outputs": [],
   "source": [
    "X = torch.randn([100, 10]).float()"
   ]
  },
  {
   "cell_type": "code",
   "execution_count": 3,
   "metadata": {},
   "outputs": [
    {
     "data": {
      "text/plain": [
       "tensor([[ 8.4454e-02, -2.6860e-01, -6.5591e-01,  2.4911e-01, -8.4207e-02,\n",
       "         -1.0210e+00,  1.2796e+00, -3.7898e-01, -2.0432e-01, -1.4058e+00],\n",
       "        [ 7.7829e-01, -1.0944e+00, -3.9947e-01,  1.2635e+00,  1.0665e+00,\n",
       "          5.9686e-01,  1.4633e+00,  1.0092e-01, -1.5284e+00, -7.5029e-02],\n",
       "        [-6.3337e-01,  4.3395e-01, -6.2549e-01, -3.4619e-02, -1.2158e+00,\n",
       "          1.3390e-01,  4.5018e-01,  4.0284e-01, -2.7110e-01, -9.3186e-01],\n",
       "        [ 4.8632e-01, -3.5452e-01, -1.8803e+00, -4.4049e-01,  1.3003e-01,\n",
       "          5.5491e-01, -4.4580e-01, -1.0521e+00, -6.4202e-01, -1.1175e+00],\n",
       "        [-4.5552e-01, -2.4503e-01,  1.5687e+00,  6.5893e-01,  1.5189e+00,\n",
       "          1.9854e+00, -4.2104e-01,  6.2107e-02, -7.0744e-01,  3.1253e-01],\n",
       "        [-1.3167e+00, -1.0846e-01,  9.1873e-02,  1.8224e+00,  8.4682e-01,\n",
       "         -4.3271e-01, -6.8283e-01,  7.8201e-01,  2.1096e+00,  1.6840e+00],\n",
       "        [ 1.6973e+00,  6.3685e-01, -1.0013e-01,  1.5967e+00,  1.2724e+00,\n",
       "          1.0088e-01, -3.6188e-01,  1.1949e+00,  1.0022e+00, -1.6518e+00],\n",
       "        [ 3.8795e-01, -2.8234e+00, -9.8818e-01,  6.3452e-01, -1.8009e-01,\n",
       "          9.8428e-01,  6.6218e-01, -7.2771e-01,  7.7031e-02,  2.1839e+00],\n",
       "        [ 1.4350e+00,  1.2545e+00,  1.7228e-01,  5.8869e-02, -2.4172e+00,\n",
       "         -2.0241e-01,  4.1946e-01, -5.3517e-01,  1.1132e+00,  2.2184e+00],\n",
       "        [ 7.6801e-01,  9.6712e-01, -7.7597e-01, -2.8788e-01, -6.7632e-01,\n",
       "         -1.3871e+00,  2.7963e-01,  7.3169e-03, -2.4677e-03,  8.1995e-01],\n",
       "        [ 4.3626e-01, -1.1126e+00,  5.0954e-01, -1.7537e+00, -3.8511e-01,\n",
       "         -1.8516e+00,  2.0694e+00, -3.2749e-01,  2.2839e-01, -1.1921e+00],\n",
       "        [ 7.2445e-01,  2.2664e-01,  8.0132e-01, -1.9225e-01, -1.6272e-01,\n",
       "          1.2685e-01, -1.6884e+00,  3.2659e-01,  5.3391e-01,  1.8496e+00],\n",
       "        [-6.5246e-01, -5.3829e-01,  6.4736e-01,  9.0382e-01, -7.3735e-01,\n",
       "         -9.6055e-01,  8.1438e-01,  9.9193e-01, -2.1807e+00,  5.6116e-01],\n",
       "        [ 1.1417e-01,  1.2301e+00,  2.4032e+00, -7.0169e-01, -5.9213e-01,\n",
       "          3.1075e-01, -8.3247e-01, -8.2040e-01,  8.6324e-01,  5.4980e-01],\n",
       "        [ 4.8505e-01, -2.1535e+00, -4.9322e-01, -9.9524e-01, -8.8428e-01,\n",
       "         -7.2109e-02,  6.6095e-01,  1.4452e+00, -5.7225e-01,  1.8060e-01],\n",
       "        [ 2.0346e+00,  2.8769e-02,  3.7062e-01, -3.7620e-01,  9.3357e-01,\n",
       "         -7.3088e-01, -1.4199e+00,  4.8541e-01,  1.9530e+00,  3.1844e-01],\n",
       "        [-4.0109e+00, -1.1325e-01,  1.0491e-01, -2.8026e-01, -1.3835e+00,\n",
       "         -1.3971e+00, -5.5007e-01,  3.3047e-01,  1.0534e+00, -1.7738e+00],\n",
       "        [ 6.8032e-02,  2.3716e-01, -1.0263e+00,  3.4000e-01, -1.3320e-01,\n",
       "         -1.1517e+00, -4.0409e-01, -3.0996e-01, -3.3139e-01, -1.5982e-01],\n",
       "        [-1.7639e+00, -1.1690e-01,  1.9365e-01,  1.2037e+00,  3.9656e-01,\n",
       "          1.1357e+00, -1.6665e+00,  5.5096e-01,  3.3948e-01, -1.1919e-02],\n",
       "        [ 5.2409e-01, -9.9668e-01, -1.2898e+00, -2.1680e+00,  3.7959e-01,\n",
       "         -3.8338e-01,  1.8280e+00, -5.4729e-01,  3.1181e-01, -1.1092e+00],\n",
       "        [ 5.3478e-01, -2.7013e+00, -1.2264e+00, -1.2131e-01,  9.3121e-01,\n",
       "         -6.4078e-01,  1.5213e+00,  2.2483e+00,  6.4303e-01, -1.0178e+00],\n",
       "        [ 1.2728e+00,  8.9895e-01, -1.4055e+00,  6.2303e-01,  1.8597e+00,\n",
       "          1.0486e+00, -7.2125e-01,  1.6838e+00, -1.1487e+00,  3.6790e-01],\n",
       "        [ 5.2971e-01, -3.6668e-01, -6.1975e-01,  7.3310e-01,  3.6152e-01,\n",
       "          1.7770e-01, -3.8237e-01,  5.7961e-01, -1.3063e+00, -7.4528e-01],\n",
       "        [-1.4056e+00,  1.7178e+00,  8.9052e-01, -1.6047e+00,  5.1839e-01,\n",
       "          1.3446e+00, -1.1657e+00,  7.2011e-01,  1.3122e+00, -5.8350e-01],\n",
       "        [ 5.3208e-01, -5.3285e-01,  2.8417e-01,  5.6556e-01,  7.4998e-02,\n",
       "         -1.2402e-01,  4.0740e-01,  1.3218e+00,  7.6914e-01,  1.1540e-01],\n",
       "        [ 3.9104e-01,  1.5704e+00, -1.0893e+00,  4.1674e-01,  1.5850e+00,\n",
       "         -3.7215e-01, -9.1967e-02, -5.6794e-01, -6.3853e-01, -1.5603e+00],\n",
       "        [ 1.1109e+00, -1.1192e+00, -6.6414e-01,  1.3821e+00, -1.0513e+00,\n",
       "          5.5852e-01,  1.0316e+00, -4.4097e-01, -1.3084e+00,  1.8240e+00],\n",
       "        [ 2.4160e-01, -8.0665e-02, -2.1740e-01, -7.3374e-02, -2.3651e-01,\n",
       "          2.0107e+00, -1.0619e+00, -4.6817e-01, -6.1223e-01, -2.8742e-01],\n",
       "        [ 6.6422e-01,  1.7793e+00, -2.7197e-01, -1.1537e+00,  4.6364e-01,\n",
       "         -3.3127e-02, -9.4879e-01, -2.2083e+00, -5.4410e-01,  1.1043e+00],\n",
       "        [-2.7642e-02,  1.4535e+00,  4.0550e-01,  1.0994e+00, -1.0706e+00,\n",
       "         -8.3600e-01,  3.0738e-01, -3.6347e-01, -9.9878e-01, -4.8448e-02],\n",
       "        [ 1.3183e+00, -1.3535e+00, -8.2842e-01, -3.0113e-01, -3.7691e-01,\n",
       "          5.9039e-01,  6.8756e-01, -7.4459e-01, -1.7062e+00,  1.6161e+00],\n",
       "        [-9.4585e-01,  2.3772e-02,  2.5953e-01, -2.2657e-02, -9.6365e-01,\n",
       "          2.0471e-01, -1.7920e+00,  1.3044e-01,  1.2635e+00,  3.8032e-01],\n",
       "        [ 9.3077e-01, -1.4271e+00,  9.3487e-01,  1.9356e-01,  3.4512e-03,\n",
       "          5.7283e-01, -5.8722e-01,  1.5295e+00, -2.3744e+00, -6.7109e-02],\n",
       "        [ 3.6067e-01, -3.9081e-01,  1.2610e+00, -3.4663e-01,  4.2973e-02,\n",
       "         -1.1657e+00,  2.4430e-01,  1.4768e+00,  9.0871e-01, -1.5956e+00],\n",
       "        [ 8.6316e-01,  5.0684e-01,  2.4846e-01, -3.7834e-01, -1.1772e+00,\n",
       "         -2.6778e-01, -4.0041e-02,  6.9763e-01, -1.7086e+00, -8.7892e-01],\n",
       "        [-1.3982e-01,  1.2027e+00,  2.0511e-01, -1.3613e+00, -3.7959e-01,\n",
       "         -1.2572e-01,  1.9405e-01, -5.0774e-02,  3.5880e-01,  1.8110e+00],\n",
       "        [-1.8827e-01, -8.7148e-01, -6.0496e-01,  4.2090e-01, -1.0675e+00,\n",
       "         -1.4829e+00,  7.5840e-02, -8.1396e-01, -1.9349e+00, -6.6252e-01],\n",
       "        [ 1.8663e+00, -5.8893e-01, -1.3316e-01, -1.7052e+00, -7.9718e-02,\n",
       "         -1.1404e-01,  3.1623e-01, -2.2186e+00, -5.2527e-01, -7.1751e-01],\n",
       "        [-1.3259e+00, -1.1045e+00, -7.9140e-01,  1.1619e-01, -4.5709e-01,\n",
       "         -2.1752e-01, -9.6345e-01, -5.8149e-01,  7.5033e-01,  1.1205e+00],\n",
       "        [ 1.6886e+00, -1.1447e+00, -6.8477e-02, -2.1303e-01, -1.5559e-01,\n",
       "          3.3971e-01, -2.3653e-01, -2.7726e+00, -6.7112e-01, -1.8044e-01],\n",
       "        [-1.6773e+00,  2.9519e-01,  1.4420e+00,  4.5174e-02,  1.4715e+00,\n",
       "          1.3528e+00, -1.2255e+00, -9.9706e-01, -2.6653e-01,  1.9950e-01],\n",
       "        [-6.2253e-01, -3.0623e+00,  1.7319e-01, -7.1221e-01,  1.0399e+00,\n",
       "         -4.2340e-01, -3.1642e-01, -1.2082e+00, -1.6324e+00,  1.0778e+00],\n",
       "        [ 2.5137e+00, -1.2800e+00,  5.4823e-03,  4.5741e-01, -3.5968e-01,\n",
       "          3.1974e-01,  8.1954e-03, -3.3233e+00, -1.0321e-01, -1.3575e+00],\n",
       "        [ 8.8344e-01, -4.5303e-02,  7.8484e-01,  2.9401e-01, -1.1282e+00,\n",
       "          9.7507e-02,  7.6561e-02,  2.4234e+00,  7.9408e-01, -4.0711e-01],\n",
       "        [-2.6322e-01,  7.0969e-01, -3.5089e-01, -4.7007e-01,  1.0733e+00,\n",
       "          8.0665e-01, -5.8547e-01,  2.3739e+00,  8.0841e-01,  1.5974e-01],\n",
       "        [ 1.3634e+00, -1.2361e+00,  2.1461e-01,  1.1461e-01,  2.3038e-01,\n",
       "          3.1775e-01,  4.2783e-01,  3.6851e-01, -1.0057e+00, -4.6833e-01],\n",
       "        [ 3.6510e-01,  2.1198e-01,  9.8680e-01, -3.8135e-01, -8.9119e-01,\n",
       "         -5.5222e-02,  1.2828e+00,  1.2292e+00,  8.8602e-01,  1.7517e-02],\n",
       "        [-1.3943e-01, -5.7035e-01,  8.0079e-01, -1.9126e+00, -6.4601e-01,\n",
       "          4.3930e-02,  8.6993e-01,  1.5175e-01, -8.3800e-01, -1.1446e-01],\n",
       "        [-1.3486e+00, -1.9626e+00, -1.7807e-01,  6.3630e-01,  2.7493e-02,\n",
       "          7.2992e-01,  4.4259e-01, -3.5819e-01, -9.6590e-01, -5.2100e-01],\n",
       "        [-1.4203e-01,  6.4705e-01, -6.5126e-01,  3.1495e-01,  8.4678e-01,\n",
       "         -5.0003e-01, -4.9301e-01,  5.2430e-01, -2.8833e-03, -8.1819e-02],\n",
       "        [ 1.6019e+00,  4.4134e-01,  1.5451e+00, -1.2024e+00, -1.0974e+00,\n",
       "         -1.8359e+00,  1.2265e-01,  2.4890e-01, -5.0062e-01, -9.5428e-01],\n",
       "        [-1.2366e-01, -1.1070e-01, -9.7725e-02,  1.3755e+00,  5.0502e-01,\n",
       "          1.0309e-01, -3.0488e-02,  9.7870e-01,  2.0420e-04, -1.0840e+00],\n",
       "        [-1.3741e+00,  4.1666e-02, -3.7293e-01, -1.2419e+00,  1.3699e+00,\n",
       "          6.9737e-01, -1.1210e+00,  7.9505e-02,  4.5491e-01,  1.4519e+00],\n",
       "        [-1.1766e-03, -5.4083e-02,  4.2605e-01, -1.8854e+00,  9.0613e-02,\n",
       "          1.4122e-01, -7.7499e-01,  1.4002e+00,  1.2210e+00,  4.2909e-01],\n",
       "        [ 9.7769e-02, -7.8583e-01, -9.9860e-02, -4.4962e-01, -4.3722e-01,\n",
       "         -3.1327e-01,  5.8948e-01, -9.2338e-01,  1.1606e+00, -3.2282e-01],\n",
       "        [ 2.2834e-01, -1.7008e-01, -5.2076e-01,  6.9183e-01,  3.5270e-02,\n",
       "          6.9584e-01,  4.9140e-01, -4.6092e-01,  1.6151e-01, -6.7044e-01],\n",
       "        [-5.1048e-01, -3.5408e-01,  1.6462e+00, -1.5994e-01,  9.2638e-01,\n",
       "          6.7502e-01,  3.2160e-01,  5.0847e-01,  6.4191e-01, -6.4675e-01],\n",
       "        [-5.7534e-01,  4.8520e-01,  2.5758e-01, -2.1823e+00, -6.2136e-02,\n",
       "          3.4664e-01,  1.6844e+00, -8.5476e-01, -1.1507e+00,  7.0936e-01],\n",
       "        [ 3.8233e-01, -5.8920e-01, -9.4406e-01, -5.8501e-02,  1.7944e+00,\n",
       "          1.3025e+00, -1.3836e+00,  5.5611e-01, -7.4471e-01, -2.0089e-01],\n",
       "        [-5.7955e-01,  4.7471e-01, -9.4179e-01,  1.1903e+00, -9.7221e-01,\n",
       "          3.3958e-01, -2.7831e-01,  4.2987e-01, -5.8467e-01, -1.8426e+00],\n",
       "        [-9.3287e-01,  1.8367e+00, -3.4088e-02,  1.1227e+00, -1.1827e+00,\n",
       "          1.7124e+00,  5.2940e-01, -1.7883e-01,  5.4360e-01, -1.6985e-01],\n",
       "        [-4.8070e-01, -4.3214e-01, -1.2197e+00,  7.0729e-01,  1.8720e-01,\n",
       "         -1.4878e+00,  2.3004e-01,  9.4868e-01, -1.5690e+00, -1.8129e+00],\n",
       "        [ 3.7362e-01, -7.4433e-01,  2.0150e+00,  8.8449e-02, -2.6660e+00,\n",
       "          4.2349e-02, -9.5606e-01, -1.3669e+00, -2.5115e-01,  6.8155e-01],\n",
       "        [-1.0315e+00,  3.6821e-01, -3.5988e-02,  8.9325e-01, -2.6025e-01,\n",
       "         -7.5508e-01,  2.8764e-01, -8.4555e-02,  1.0078e+00,  8.0747e-02],\n",
       "        [-1.0314e-01, -1.3111e+00, -4.0832e-01, -2.2312e-01, -2.3185e-01,\n",
       "         -1.1237e+00,  3.0003e-01, -1.4760e+00,  1.6937e+00,  6.6452e-01],\n",
       "        [ 4.6313e-01,  2.7373e-01,  1.3535e+00, -1.0523e+00, -1.1759e+00,\n",
       "         -1.1866e-01, -1.8178e+00, -1.9562e+00, -2.7557e+00,  9.9273e-01],\n",
       "        [-1.4526e-01,  3.2762e-01,  3.4692e-01,  3.7576e-01, -2.5184e-01,\n",
       "          5.1214e-01, -2.2544e+00, -3.1854e-02,  2.0548e-01, -5.0857e-01],\n",
       "        [-2.5991e+00,  7.3710e-01, -2.9235e-01,  4.0825e-01,  1.3127e-01,\n",
       "          4.2561e-01, -3.1633e-01,  2.0134e+00,  9.0889e-01,  1.0375e-01],\n",
       "        [ 1.1062e+00,  4.6543e-01,  5.5893e-01,  2.2696e+00, -3.2827e-01,\n",
       "         -7.3536e-01, -3.6335e-01,  1.2712e+00,  5.2282e-01,  9.6592e-01],\n",
       "        [ 1.8709e+00,  1.2691e+00, -2.2747e+00,  1.8362e-01,  6.5382e-01,\n",
       "         -9.7100e-01,  5.0499e-02, -2.2992e-01,  2.3692e+00,  9.5109e-01],\n",
       "        [ 6.4914e-01, -9.1762e-01,  7.9402e-01, -5.7294e-01, -1.3789e+00,\n",
       "          1.5611e+00,  2.4285e-01,  7.6522e-01, -1.8508e-01,  3.8019e-01],\n",
       "        [ 6.3133e-01,  4.8790e-01,  6.7716e-01, -4.7627e-02, -6.6483e-01,\n",
       "          8.2286e-02, -9.2369e-01, -7.4870e-01, -1.6412e+00,  1.5907e+00],\n",
       "        [-1.2101e+00, -1.3086e-02, -7.6221e-01, -1.9054e+00,  1.6014e+00,\n",
       "          4.9616e-01,  5.0744e-01, -6.9813e-01,  5.0598e-01, -5.5197e-01],\n",
       "        [ 4.2946e-01,  7.8867e-01, -7.8797e-01, -1.8680e+00,  2.1004e+00,\n",
       "         -1.1413e+00,  5.8943e-01,  1.5857e+00, -1.0310e+00, -3.0610e+00],\n",
       "        [ 5.7231e-01,  1.4349e+00,  2.0558e+00, -6.5313e-01, -1.1008e+00,\n",
       "          3.3597e-01, -7.6982e-01, -3.3191e-01, -1.2739e-01,  2.4983e-01],\n",
       "        [-4.3828e-01, -8.9859e-01, -7.3127e-01, -1.4140e+00, -1.6155e+00,\n",
       "         -6.3037e-01,  6.6460e-01,  1.5374e-01, -2.2904e+00, -1.4709e+00],\n",
       "        [ 2.3979e-01, -2.8253e+00, -1.2691e+00, -4.5979e-01,  1.2089e+00,\n",
       "          2.8078e-01,  4.3860e-01,  1.7485e+00,  8.9064e-01,  2.2627e-01],\n",
       "        [ 1.2841e+00,  8.4573e-01, -8.7604e-01, -1.0769e+00, -2.4937e-01,\n",
       "          2.1603e+00, -7.1578e-01,  5.0859e-01,  3.5162e-01, -7.2960e-01],\n",
       "        [-2.0940e+00,  9.1198e-03,  1.0844e+00, -2.9161e-02,  3.8735e-01,\n",
       "         -1.1529e+00, -4.2610e-01,  9.1373e-01,  9.9949e-01, -5.4444e-01],\n",
       "        [ 5.1853e-01,  5.7452e-01,  1.5442e+00, -1.1987e+00,  1.4629e+00,\n",
       "         -1.6175e+00, -1.2539e+00, -9.0240e-01,  1.3768e-01,  1.0197e+00],\n",
       "        [ 7.8985e-02,  7.5024e-01,  1.8803e+00,  3.2883e-02, -7.8346e-01,\n",
       "          1.4672e+00, -1.5265e+00,  1.6060e+00,  6.6688e-01,  1.1980e+00],\n",
       "        [ 1.5473e-01,  1.1014e+00, -9.8836e-02,  1.8225e+00,  6.3557e-01,\n",
       "          9.9490e-01, -6.6135e-01, -5.9152e-01, -1.9392e+00,  3.1568e-01],\n",
       "        [-1.3191e+00, -6.0793e-01, -2.1561e+00, -9.0370e-01, -2.0391e+00,\n",
       "         -3.5273e-01, -5.7890e-01, -7.6665e-01,  1.5919e+00, -7.8403e-01],\n",
       "        [ 1.6555e+00,  3.0898e-01, -1.2017e+00,  1.6880e+00,  1.0341e+00,\n",
       "         -1.4796e+00,  2.6902e-02, -8.7811e-02, -1.2244e-01,  2.0511e+00],\n",
       "        [-6.8372e-02,  7.2796e-02,  7.3671e-01, -1.2476e-01,  4.3116e-02,\n",
       "         -5.2492e-02, -1.8017e+00,  3.5702e-02,  2.6050e-01, -3.6494e+00],\n",
       "        [-1.9182e-01, -8.8358e-01,  6.0933e-01,  4.3020e-01,  1.4351e+00,\n",
       "         -1.1748e-01, -7.2823e-01,  5.9283e-02,  4.6496e-01,  3.0010e-02],\n",
       "        [-1.1903e+00, -6.1801e-01, -1.1535e+00, -1.4601e+00, -4.3608e-01,\n",
       "          8.1604e-02, -1.8536e+00,  1.5888e-01, -3.8276e-01,  1.2817e-01],\n",
       "        [ 5.9685e-01, -1.0370e+00, -3.5014e-01, -1.3388e+00,  2.8698e-01,\n",
       "         -7.2466e-01,  1.4399e+00, -1.3940e+00, -2.2294e-01,  4.9967e-01],\n",
       "        [ 7.4683e-01, -5.6447e-01, -2.5614e-01,  1.4770e-01, -5.0542e-01,\n",
       "         -1.0947e+00, -1.3979e+00, -1.9089e-01,  5.0825e-01, -7.1883e-01],\n",
       "        [ 1.1725e-01,  8.8849e-01,  1.7540e+00, -2.8065e-01, -8.8485e-01,\n",
       "         -4.3963e-01, -1.4043e-01,  5.4612e-01,  1.2387e+00, -5.4083e-01],\n",
       "        [ 1.2003e+00,  2.0179e-01, -7.0565e-01,  3.7611e-01,  6.1256e-02,\n",
       "          2.1269e+00,  9.8958e-01,  6.3610e-02, -2.0706e+00, -6.0141e-01],\n",
       "        [ 1.5333e-01, -6.2972e-02,  1.5891e-01, -8.5375e-01,  5.5691e-01,\n",
       "         -8.0426e-01,  5.7620e-03, -3.3006e-01,  1.4051e+00, -8.3963e-01],\n",
       "        [ 7.1022e-01, -3.1609e-01, -4.2455e-01,  8.5930e-01, -3.8801e-01,\n",
       "          1.2062e+00, -8.6033e-01, -1.1850e+00, -2.5129e-01,  1.1302e+00],\n",
       "        [ 1.2301e-01, -1.4766e-01, -1.5390e+00, -5.2026e-01, -6.7935e-01,\n",
       "          1.7050e-01,  2.3288e+00,  5.6592e-01,  3.2816e-01, -8.3308e-01],\n",
       "        [ 1.7493e+00, -1.6477e-01,  3.8650e-01, -3.9067e-01, -3.0686e+00,\n",
       "          2.8771e-01, -1.6017e+00, -1.5416e-01,  7.4933e-01, -3.2447e-01],\n",
       "        [ 2.0894e+00, -1.8234e-01, -5.4262e-01,  2.0693e-01,  7.0638e-01,\n",
       "         -9.8876e-01, -2.7578e-01,  2.0561e+00, -7.4762e-01,  3.4381e-01],\n",
       "        [ 1.2543e+00,  2.5851e-01,  5.6937e-01, -5.7968e-02,  4.6940e-01,\n",
       "          1.8162e-01,  7.4364e-02, -2.2549e+00, -7.3565e-01, -3.8870e-01],\n",
       "        [-4.5577e-01, -1.7101e+00,  1.7072e+00,  1.7087e+00, -1.5013e+00,\n",
       "          2.0613e+00,  3.2105e-01, -3.1084e-01,  1.1940e+00,  2.2471e+00],\n",
       "        [ 1.5658e+00, -7.4411e-01, -1.3135e-01,  8.2595e-01,  1.8164e+00,\n",
       "         -4.1348e-01,  1.9911e-01,  1.9285e-01, -1.1783e+00,  1.0378e+00],\n",
       "        [-4.0545e-01, -4.6093e-02,  3.8231e-01, -2.0365e-01,  8.5314e-01,\n",
       "         -1.2323e+00, -2.9755e-01, -1.3389e+00,  1.9195e+00,  1.2848e+00]])"
      ]
     },
     "execution_count": 3,
     "metadata": {},
     "output_type": "execute_result"
    }
   ],
   "source": [
    "X"
   ]
  },
  {
   "cell_type": "code",
   "execution_count": 4,
   "metadata": {},
   "outputs": [
    {
     "data": {
      "text/plain": [
       "tensor([0.3306, 0.3160, 0.4774, 0.1110, 0.9222, 0.1556, 0.5058, 0.7681, 0.9027,\n",
       "        0.0658])"
      ]
     },
     "execution_count": 4,
     "metadata": {},
     "output_type": "execute_result"
    }
   ],
   "source": [
    "A = torch.rand(10)\n",
    "A"
   ]
  },
  {
   "cell_type": "code",
   "execution_count": 5,
   "metadata": {},
   "outputs": [],
   "source": [
    "Y =  X @ A"
   ]
  },
  {
   "cell_type": "markdown",
   "metadata": {},
   "source": [
    "### Goal is to automatically figure out the function Y given X"
   ]
  },
  {
   "cell_type": "markdown",
   "metadata": {},
   "source": [
    "Let us start by randomly initializing a function F(X) with random set of weights"
   ]
  },
  {
   "cell_type": "code",
   "execution_count": 6,
   "metadata": {},
   "outputs": [],
   "source": [
    "def mse(y, y1):\n",
    "    \n",
    "    return sum((y-y1)**2)/len(y)\n",
    "\n",
    "def relu(X):\n",
    "    return X.clamp_min(0)\n",
    "\n",
    "def grad_mse(y, y1):\n",
    "    return (y-y1) / (2 * len(Y))\n",
    "\n",
    "def grad_relu(outg, inp):\n",
    "    return outg * (inp > 0).float()\n",
    "\n",
    "def grad_linear(outg, inp, w):\n",
    "    grad_w = inp.t() @ outg\n",
    "    grad_inp = outg @ w.t()\n",
    "    grad_b = outg.sum(0)\n",
    "    return grad_inp, grad_w, grad_b"
   ]
  },
  {
   "cell_type": "code",
   "execution_count": 7,
   "metadata": {},
   "outputs": [],
   "source": [
    "W1 = torch.randn([10, 5])\n",
    "W2 = torch.randn([5, 1])\n",
    "B1 = torch.ones([100, 1])\n",
    "B2 = torch.ones([100, 1])"
   ]
  },
  {
   "cell_type": "code",
   "execution_count": 8,
   "metadata": {},
   "outputs": [
    {
     "name": "stdout",
     "output_type": "stream",
     "text": [
      "loss is tensor(34.0978)\n"
     ]
    }
   ],
   "source": [
    "G = X @ W1 + B1\n",
    "A = relu(G)\n",
    "preds = A @ W2 + B2\n",
    "print(\"loss is\", mse(Y, preds.flatten()))"
   ]
  },
  {
   "cell_type": "code",
   "execution_count": 9,
   "metadata": {},
   "outputs": [],
   "source": [
    "Y.ndim = 2\n",
    "preds.ndim = 2"
   ]
  },
  {
   "cell_type": "code",
   "execution_count": 10,
   "metadata": {},
   "outputs": [
    {
     "data": {
      "text/plain": [
       "<matplotlib.collections.PathCollection at 0x11f74dda0>"
      ]
     },
     "execution_count": 10,
     "metadata": {},
     "output_type": "execute_result"
    },
    {
     "data": {
      "image/png": "[encoded data removed]",
      "text/plain": [
       "<Figure size 432x288 with 1 Axes>"
      ]
     },
     "metadata": {
      "needs_background": "light"
     },
     "output_type": "display_data"
    }
   ],
   "source": [
    "plt.scatter(Y, preds)"
   ]
  },
  {
   "cell_type": "code",
   "execution_count": 11,
   "metadata": {},
   "outputs": [
    {
     "data": {
      "text/plain": [
       "(tensor([-1.7317e-02, -4.3582e-03,  6.0073e-04, -1.7626e-02,  1.0016e-02,\n",
       "         -2.3963e-03, -2.1382e-03, -4.5771e-02, -5.8413e-02, -3.2459e-02,\n",
       "         -2.8368e-02, -3.6884e-02, -1.6092e-02, -2.0706e-02, -3.1969e-02,\n",
       "         -2.9927e-02,  6.3174e-03, -2.7910e-02,  1.1780e-02, -1.0616e-02,\n",
       "         -3.5807e-03,  1.1564e-02, -1.1810e-02,  3.0055e-02, -1.2064e-02,\n",
       "          4.3866e-03, -4.9012e-02, -1.1900e-02, -2.3906e-02, -1.3352e-02,\n",
       "         -3.9624e-02, -2.4721e-02, -2.9685e-02, -1.6114e-02, -2.0003e-02,\n",
       "         -7.0698e-03, -5.4153e-02, -4.0736e-02, -3.6754e-02, -5.6525e-02,\n",
       "          1.0168e-02, -3.5455e-02, -6.8480e-02, -1.8144e-02,  1.9348e-02,\n",
       "         -2.0872e-02, -7.1853e-03, -1.5043e-02, -1.3404e-02,  4.6761e-03,\n",
       "         -4.8028e-02,  2.5932e-03,  6.3487e-03, -8.3068e-03, -3.3263e-02,\n",
       "         -6.2395e-03, -8.0295e-04, -1.6312e-03, -2.0333e-03,  5.9459e-04,\n",
       "          2.8243e-02, -1.3175e-02, -8.3845e-02, -5.3044e-03, -4.8134e-02,\n",
       "         -6.3626e-02, -1.8548e-02,  3.5043e-02, -2.9039e-02, -2.7207e-02,\n",
       "         -3.0111e-02, -3.4668e-02,  2.6195e-03,  7.8902e-05, -1.9980e-02,\n",
       "         -3.1674e-02, -1.0328e-02, -5.0397e-03,  7.6666e-03, -3.5495e-02,\n",
       "         -4.2873e-03,  5.4986e-03, -4.3739e-02, -3.0310e-02, -2.5716e-02,\n",
       "         -1.0514e-02, -2.3974e-02, -2.8198e-02, -5.1354e-02, -1.6613e-02,\n",
       "         -5.0778e-04, -1.9390e-02, -3.5045e-02, -6.6560e-03, -8.4409e-02,\n",
       "         -1.6071e-02, -3.2399e-02, -3.8312e-02, -7.9063e-03, -3.5134e-02]),\n",
       " torch.Size([100]))"
      ]
     },
     "execution_count": 11,
     "metadata": {},
     "output_type": "execute_result"
    }
   ],
   "source": [
    "grad_output = grad_mse(Y, preds.flatten())\n",
    "grad_output, grad_output.shape"
   ]
  },
  {
   "cell_type": "code",
   "execution_count": 12,
   "metadata": {},
   "outputs": [],
   "source": [
    "grad_output = grad_output[:, None]"
   ]
  },
  {
   "cell_type": "code",
   "execution_count": 13,
   "metadata": {},
   "outputs": [
    {
     "data": {
      "text/plain": [
       "(tensor([[-8.4051e-03,  2.1744e-02, -8.1153e-03, -1.2328e-02, -9.9453e-03],\n",
       "         [-2.1153e-03,  5.4723e-03, -2.0423e-03, -3.1026e-03, -2.5029e-03],\n",
       "         [ 2.9157e-04, -7.5430e-04,  2.8152e-04,  4.2767e-04,  3.4500e-04],\n",
       "         [-8.5548e-03,  2.2131e-02, -8.2598e-03, -1.2548e-02, -1.0122e-02],\n",
       "         [ 4.8615e-03, -1.2577e-02,  4.6938e-03,  7.1306e-03,  5.7523e-03],\n",
       "         [-1.1631e-03,  3.0089e-03, -1.1230e-03, -1.7060e-03, -1.3762e-03],\n",
       "         [-1.0378e-03,  2.6848e-03, -1.0020e-03, -1.5222e-03, -1.2280e-03],\n",
       "         [-2.2215e-02,  5.7471e-02, -2.1449e-02, -3.2585e-02, -2.6286e-02],\n",
       "         [-2.8351e-02,  7.3345e-02, -2.7373e-02, -4.1584e-02, -3.3546e-02],\n",
       "         [-1.5754e-02,  4.0756e-02, -1.5211e-02, -2.3108e-02, -1.8641e-02],\n",
       "         [-1.3769e-02,  3.5620e-02, -1.3294e-02, -2.0195e-02, -1.6292e-02],\n",
       "         [-1.7902e-02,  4.6312e-02, -1.7284e-02, -2.6258e-02, -2.1182e-02],\n",
       "         [-7.8104e-03,  2.0206e-02, -7.5411e-03, -1.1456e-02, -9.2416e-03],\n",
       "         [-1.0050e-02,  2.5999e-02, -9.7034e-03, -1.4741e-02, -1.1892e-02],\n",
       "         [-1.5516e-02,  4.0141e-02, -1.4981e-02, -2.2759e-02, -1.8360e-02],\n",
       "         [-1.4525e-02,  3.7577e-02, -1.4025e-02, -2.1305e-02, -1.7187e-02],\n",
       "         [ 3.0662e-03, -7.9323e-03,  2.9605e-03,  4.4974e-03,  3.6281e-03],\n",
       "         [-1.3546e-02,  3.5044e-02, -1.3079e-02, -1.9869e-02, -1.6029e-02],\n",
       "         [ 5.7175e-03, -1.4791e-02,  5.5204e-03,  8.3863e-03,  6.7652e-03],\n",
       "         [-5.1525e-03,  1.3330e-02, -4.9748e-03, -7.5575e-03, -6.0967e-03],\n",
       "         [-1.7379e-03,  4.4960e-03, -1.6780e-03, -2.5491e-03, -2.0564e-03],\n",
       "         [ 5.6127e-03, -1.4520e-02,  5.4191e-03,  8.2324e-03,  6.6411e-03],\n",
       "         [-5.7322e-03,  1.4829e-02, -5.5346e-03, -8.4078e-03, -6.7826e-03],\n",
       "         [ 1.4587e-02, -3.7737e-02,  1.4084e-02,  2.1396e-02,  1.7260e-02],\n",
       "         [-5.8555e-03,  1.5148e-02, -5.6536e-03, -8.5887e-03, -6.9285e-03],\n",
       "         [ 2.1291e-03, -5.5080e-03,  2.0557e-03,  3.1229e-03,  2.5192e-03],\n",
       "         [-2.3789e-02,  6.1541e-02, -2.2968e-02, -3.4892e-02, -2.8148e-02],\n",
       "         [-5.7759e-03,  1.4942e-02, -5.5767e-03, -8.4718e-03, -6.8343e-03],\n",
       "         [-1.1603e-02,  3.0017e-02, -1.1203e-02, -1.7019e-02, -1.3729e-02],\n",
       "         [-6.4805e-03,  1.6765e-02, -6.2570e-03, -9.5053e-03, -7.6680e-03],\n",
       "         [-1.9232e-02,  4.9753e-02, -1.8569e-02, -2.8208e-02, -2.2756e-02],\n",
       "         [-1.1999e-02,  3.1040e-02, -1.1585e-02, -1.7599e-02, -1.4197e-02],\n",
       "         [-1.4408e-02,  3.7274e-02, -1.3911e-02, -2.1133e-02, -1.7048e-02],\n",
       "         [-7.8212e-03,  2.0234e-02, -7.5515e-03, -1.1472e-02, -9.2544e-03],\n",
       "         [-9.7087e-03,  2.5117e-02, -9.3739e-03, -1.4240e-02, -1.1488e-02],\n",
       "         [-3.4314e-03,  8.8770e-03, -3.3131e-03, -5.0330e-03, -4.0602e-03],\n",
       "         [-2.6284e-02,  6.7997e-02, -2.5378e-02, -3.8552e-02, -3.1100e-02],\n",
       "         [-1.9772e-02,  5.1149e-02, -1.9090e-02, -2.9000e-02, -2.3395e-02],\n",
       "         [-1.7839e-02,  4.6149e-02, -1.7224e-02, -2.6165e-02, -2.1108e-02],\n",
       "         [-2.7435e-02,  7.0974e-02, -2.6489e-02, -4.0240e-02, -3.2462e-02],\n",
       "         [ 4.9350e-03, -1.2767e-02,  4.7648e-03,  7.2385e-03,  5.8393e-03],\n",
       "         [-1.7208e-02,  4.4518e-02, -1.6615e-02, -2.5240e-02, -2.0362e-02],\n",
       "         [-3.3238e-02,  8.5986e-02, -3.2091e-02, -4.8752e-02, -3.9328e-02],\n",
       "         [-8.8066e-03,  2.2783e-02, -8.5029e-03, -1.2917e-02, -1.0420e-02],\n",
       "         [ 9.3909e-03, -2.4294e-02,  9.0671e-03,  1.3774e-02,  1.1112e-02],\n",
       "         [-1.0130e-02,  2.6208e-02, -9.7811e-03, -1.4859e-02, -1.1987e-02],\n",
       "         [-3.4874e-03,  9.0220e-03, -3.3672e-03, -5.1152e-03, -4.1265e-03],\n",
       "         [-7.3013e-03,  1.8889e-02, -7.0496e-03, -1.0709e-02, -8.6393e-03],\n",
       "         [-6.5057e-03,  1.6830e-02, -6.2814e-03, -9.5424e-03, -7.6979e-03],\n",
       "         [ 2.2696e-03, -5.8715e-03,  2.1913e-03,  3.3290e-03,  2.6855e-03],\n",
       "         [-2.3311e-02,  6.0305e-02, -2.2507e-02, -3.4192e-02, -2.7582e-02],\n",
       "         [ 1.2586e-03, -3.2560e-03,  1.2152e-03,  1.8461e-03,  1.4892e-03],\n",
       "         [ 3.0814e-03, -7.9716e-03,  2.9751e-03,  4.5197e-03,  3.6460e-03],\n",
       "         [-4.0318e-03,  1.0430e-02, -3.8927e-03, -5.9137e-03, -4.7706e-03],\n",
       "         [-1.6145e-02,  4.1766e-02, -1.5588e-02, -2.3680e-02, -1.9103e-02],\n",
       "         [-3.0284e-03,  7.8344e-03, -2.9239e-03, -4.4419e-03, -3.5833e-03],\n",
       "         [-3.8972e-04,  1.0082e-03, -3.7628e-04, -5.7162e-04, -4.6113e-04],\n",
       "         [-7.9172e-04,  2.0482e-03, -7.6442e-04, -1.1613e-03, -9.3679e-04],\n",
       "         [-9.8689e-04,  2.5531e-03, -9.5286e-04, -1.4475e-03, -1.1677e-03],\n",
       "         [ 2.8859e-04, -7.4659e-04,  2.7864e-04,  4.2330e-04,  3.4147e-04],\n",
       "         [ 1.3708e-02, -3.5462e-02,  1.3235e-02,  2.0106e-02,  1.6220e-02],\n",
       "         [-6.3948e-03,  1.6543e-02, -6.1743e-03, -9.3797e-03, -7.5666e-03],\n",
       "         [-4.0695e-02,  1.0528e-01, -3.9292e-02, -5.9690e-02, -4.8152e-02],\n",
       "         [-2.5745e-03,  6.6604e-03, -2.4858e-03, -3.7762e-03, -3.0463e-03],\n",
       "         [-2.3362e-02,  6.0438e-02, -2.2557e-02, -3.4267e-02, -2.7643e-02],\n",
       "         [-3.0881e-02,  7.9891e-02, -2.9817e-02, -4.5296e-02, -3.6540e-02],\n",
       "         [-9.0025e-03,  2.3289e-02, -8.6920e-03, -1.3205e-02, -1.0652e-02],\n",
       "         [ 1.7008e-02, -4.4001e-02,  1.6422e-02,  2.4947e-02,  2.0125e-02],\n",
       "         [-1.4094e-02,  3.6462e-02, -1.3608e-02, -2.0673e-02, -1.6677e-02],\n",
       "         [-1.3205e-02,  3.4162e-02, -1.2750e-02, -1.9369e-02, -1.5625e-02],\n",
       "         [-1.4614e-02,  3.7808e-02, -1.4111e-02, -2.1436e-02, -1.7293e-02],\n",
       "         [-1.6826e-02,  4.3530e-02, -1.6246e-02, -2.4680e-02, -1.9910e-02],\n",
       "         [ 1.2714e-03, -3.2892e-03,  1.2276e-03,  1.8649e-03,  1.5044e-03],\n",
       "         [ 3.8296e-05, -9.9072e-05,  3.6975e-05,  5.6171e-05,  4.5313e-05],\n",
       "         [-9.6973e-03,  2.5087e-02, -9.3629e-03, -1.4224e-02, -1.1474e-02],\n",
       "         [-1.5373e-02,  3.9771e-02, -1.4843e-02, -2.2549e-02, -1.8190e-02],\n",
       "         [-5.0129e-03,  1.2968e-02, -4.8400e-03, -7.3527e-03, -5.9314e-03],\n",
       "         [-2.4461e-03,  6.3280e-03, -2.3617e-03, -3.5878e-03, -2.8943e-03],\n",
       "         [ 3.7211e-03, -9.6264e-03,  3.5927e-03,  5.4579e-03,  4.4029e-03],\n",
       "         [-1.7228e-02,  4.4569e-02, -1.6634e-02, -2.5269e-02, -2.0385e-02],\n",
       "         [-2.0809e-03,  5.3833e-03, -2.0091e-03, -3.0522e-03, -2.4622e-03],\n",
       "         [ 2.6688e-03, -6.9041e-03,  2.5767e-03,  3.9145e-03,  3.1578e-03],\n",
       "         [-2.1229e-02,  5.4920e-02, -2.0497e-02, -3.1138e-02, -2.5119e-02],\n",
       "         [-1.4711e-02,  3.8058e-02, -1.4204e-02, -2.1578e-02, -1.7407e-02],\n",
       "         [-1.2481e-02,  3.2290e-02, -1.2051e-02, -1.8307e-02, -1.4769e-02],\n",
       "         [-5.1030e-03,  1.3201e-02, -4.9270e-03, -7.4849e-03, -6.0381e-03],\n",
       "         [-1.1636e-02,  3.0103e-02, -1.1235e-02, -1.7068e-02, -1.3768e-02],\n",
       "         [-1.3686e-02,  3.5406e-02, -1.3214e-02, -2.0074e-02, -1.6194e-02],\n",
       "         [-2.4925e-02,  6.4482e-02, -2.4066e-02, -3.6559e-02, -2.9493e-02],\n",
       "         [-8.0632e-03,  2.0860e-02, -7.7852e-03, -1.1827e-02, -9.5408e-03],\n",
       "         [-2.4646e-04,  6.3758e-04, -2.3796e-04, -3.6149e-04, -2.9162e-04],\n",
       "         [-9.4113e-03,  2.4347e-02, -9.0868e-03, -1.3804e-02, -1.1136e-02],\n",
       "         [-1.7009e-02,  4.4003e-02, -1.6423e-02, -2.4949e-02, -2.0126e-02],\n",
       "         [-3.2306e-03,  8.3575e-03, -3.1192e-03, -4.7385e-03, -3.8225e-03],\n",
       "         [-4.0968e-02,  1.0599e-01, -3.9556e-02, -6.0091e-02, -4.8476e-02],\n",
       "         [-7.8002e-03,  2.0179e-02, -7.5312e-03, -1.1441e-02, -9.2295e-03],\n",
       "         [-1.5725e-02,  4.0681e-02, -1.5183e-02, -2.3065e-02, -1.8607e-02],\n",
       "         [-1.8595e-02,  4.8105e-02, -1.7954e-02, -2.7274e-02, -2.2002e-02],\n",
       "         [-3.8374e-03,  9.9274e-03, -3.7051e-03, -5.6285e-03, -4.5406e-03],\n",
       "         [-1.7053e-02,  4.4115e-02, -1.6465e-02, -2.5012e-02, -2.0178e-02]]),\n",
       " tensor([[-4.4270],\n",
       "         [-0.3659],\n",
       "         [-7.5942],\n",
       "         [-4.4142],\n",
       "         [-7.4850]]),\n",
       " tensor([-1.8820]),\n",
       " torch.Size([100, 5]),\n",
       " torch.Size([5, 1]),\n",
       " torch.Size([1]))"
      ]
     },
     "execution_count": 13,
     "metadata": {},
     "output_type": "execute_result"
    }
   ],
   "source": [
    "grad_acts, grad_w2, grad_b = grad_linear(grad_output, A, W2)\n",
    "grad_acts, grad_w2, grad_b, grad_acts.shape, grad_w2.shape, grad_b.shape"
   ]
  },
  {
   "cell_type": "code",
   "execution_count": 14,
   "metadata": {},
   "outputs": [
    {
     "data": {
      "text/plain": [
       "torch.Size([100, 5])"
      ]
     },
     "execution_count": 14,
     "metadata": {},
     "output_type": "execute_result"
    }
   ],
   "source": [
    "grad_G = grad_relu(grad_acts, G)\n",
    "grad_G.shape"
   ]
  },
  {
   "cell_type": "code",
   "execution_count": 15,
   "metadata": {},
   "outputs": [
    {
     "data": {
      "text/plain": [
       "(tensor([[-0.4851,  0.5402, -0.5745, -0.9282, -0.6820],\n",
       "         [ 0.2732, -0.2708,  0.3698,  0.6723,  0.4290],\n",
       "         [-0.2965,  0.3311, -0.1688, -0.1771, -0.0889],\n",
       "         [ 0.1397, -0.0986,  0.1006,  0.1177,  0.1446],\n",
       "         [ 0.4055, -1.3340,  0.5745,  0.8221,  0.6190],\n",
       "         [ 0.2693, -0.2569,  0.1066,  0.1251,  0.2706],\n",
       "         [ 0.2309, -0.4957,  0.3342,  0.2386,  0.2572],\n",
       "         [ 0.5468, -0.7435,  0.4143,  0.5845,  0.7288],\n",
       "         [ 0.0915, -0.4950,  0.2556, -0.1549,  0.0125],\n",
       "         [-0.0207,  0.4262, -0.2325, -0.2704, -0.4380]]),\n",
       " torch.Size([10, 5]),\n",
       " torch.Size([5]))"
      ]
     },
     "execution_count": 15,
     "metadata": {},
     "output_type": "execute_result"
    }
   ],
   "source": [
    "_, grad_w1, grad_b1 = grad_linear(grad_G, X, W1)\n",
    "grad_w1, grad_w1.shape, grad_b1.shape"
   ]
  },
  {
   "cell_type": "markdown",
   "metadata": {},
   "source": [
    "# Now let's run everything together"
   ]
  },
  {
   "cell_type": "code",
   "execution_count": 16,
   "metadata": {},
   "outputs": [
    {
     "name": "stdout",
     "output_type": "stream",
     "text": [
      "loss is tensor(34.0978)\n",
      "loss is tensor(6.5355)\n",
      "loss is tensor(4.0198)\n",
      "loss is tensor(3.2425)\n",
      "loss is tensor(2.7602)\n",
      "loss is tensor(2.4317)\n",
      "loss is tensor(2.1964)\n",
      "loss is tensor(2.0180)\n",
      "loss is tensor(1.8775)\n",
      "loss is tensor(1.7625)\n",
      "loss is tensor(1.6657)\n",
      "loss is tensor(1.5826)\n",
      "loss is tensor(1.5097)\n",
      "loss is tensor(1.4446)\n",
      "loss is tensor(1.3864)\n",
      "loss is tensor(1.3344)\n",
      "loss is tensor(1.2865)\n",
      "loss is tensor(1.2418)\n",
      "loss is tensor(1.2000)\n",
      "loss is tensor(1.1609)\n",
      "loss is tensor(1.1243)\n",
      "loss is tensor(1.0900)\n",
      "loss is tensor(1.0574)\n",
      "loss is tensor(1.0263)\n",
      "loss is tensor(0.9964)\n",
      "loss is tensor(0.9678)\n",
      "loss is tensor(0.9406)\n",
      "loss is tensor(0.9143)\n",
      "loss is tensor(0.8882)\n",
      "loss is tensor(0.8639)\n",
      "loss is tensor(0.8403)\n",
      "loss is tensor(0.8177)\n",
      "loss is tensor(0.7958)\n",
      "loss is tensor(0.7751)\n",
      "loss is tensor(0.7554)\n",
      "loss is tensor(0.7363)\n",
      "loss is tensor(0.7175)\n",
      "loss is tensor(0.6991)\n",
      "loss is tensor(0.6808)\n",
      "loss is tensor(0.6631)\n",
      "loss is tensor(0.6463)\n",
      "loss is tensor(0.6301)\n",
      "loss is tensor(0.6145)\n",
      "loss is tensor(0.5996)\n",
      "loss is tensor(0.5853)\n",
      "loss is tensor(0.5716)\n",
      "loss is tensor(0.5584)\n",
      "loss is tensor(0.5456)\n",
      "loss is tensor(0.5334)\n",
      "loss is tensor(0.5216)\n",
      "loss is tensor(0.5103)\n",
      "loss is tensor(0.4992)\n",
      "loss is tensor(0.4880)\n",
      "loss is tensor(0.4772)\n",
      "loss is tensor(0.4668)\n",
      "loss is tensor(0.4568)\n",
      "loss is tensor(0.4472)\n",
      "loss is tensor(0.4379)\n",
      "loss is tensor(0.4290)\n",
      "loss is tensor(0.4204)\n",
      "loss is tensor(0.4121)\n",
      "loss is tensor(0.4041)\n",
      "loss is tensor(0.3965)\n",
      "loss is tensor(0.3891)\n",
      "loss is tensor(0.3820)\n",
      "loss is tensor(0.3751)\n",
      "loss is tensor(0.3685)\n",
      "loss is tensor(0.3621)\n",
      "loss is tensor(0.3559)\n",
      "loss is tensor(0.3500)\n",
      "loss is tensor(0.3443)\n",
      "loss is tensor(0.3387)\n",
      "loss is tensor(0.3334)\n",
      "loss is tensor(0.3282)\n",
      "loss is tensor(0.3231)\n",
      "loss is tensor(0.3183)\n",
      "loss is tensor(0.3136)\n",
      "loss is tensor(0.3090)\n",
      "loss is tensor(0.3045)\n",
      "loss is tensor(0.3001)\n",
      "loss is tensor(0.2959)\n",
      "loss is tensor(0.2918)\n",
      "loss is tensor(0.2878)\n",
      "loss is tensor(0.2840)\n",
      "loss is tensor(0.2802)\n",
      "loss is tensor(0.2766)\n",
      "loss is tensor(0.2731)\n",
      "loss is tensor(0.2698)\n",
      "loss is tensor(0.2665)\n",
      "loss is tensor(0.2633)\n",
      "loss is tensor(0.2602)\n",
      "loss is tensor(0.2572)\n",
      "loss is tensor(0.2543)\n",
      "loss is tensor(0.2512)\n",
      "loss is tensor(0.2483)\n",
      "loss is tensor(0.2455)\n",
      "loss is tensor(0.2427)\n",
      "loss is tensor(0.2401)\n",
      "loss is tensor(0.2375)\n",
      "loss is tensor(0.2350)\n"
     ]
    }
   ],
   "source": [
    "lr = 0.1\n",
    "for i in range(100):\n",
    "    G = X @ W1 + B1\n",
    "    A = relu(G)\n",
    "    preds = A @ W2 + B2\n",
    "    print(\"loss is\", mse(Y, preds.flatten()))\n",
    "    grad_output = grad_mse(preds.flatten(), Y)\n",
    "    grad_output = grad_output[:, None]\n",
    "    grad_acts, grad_w2, grad_b2 = grad_linear(grad_output, A, W2)\n",
    "    grad_G = grad_relu(grad_acts, G)\n",
    "    _, grad_w1, grad_b1 = grad_linear(grad_G, X, W1)\n",
    "\n",
    "    # now update the weights\n",
    "    W1 = W1 - lr * (grad_w1)\n",
    "    W2 = W2 - lr * (grad_w2)\n",
    "    B1 = B1 - lr * (grad_b1)\n",
    "    B2 = B2 - lr * (grad_b2)    "
   ]
  },
  {
   "cell_type": "code",
   "execution_count": 17,
   "metadata": {},
   "outputs": [
    {
     "data": {
      "text/plain": [
       "<matplotlib.collections.PathCollection at 0x11f81dbe0>"
      ]
     },
     "execution_count": 17,
     "metadata": {},
     "output_type": "execute_result"
    },
    {
     "data": {
      "image/png": "[encoded data removed]",
      "text/plain": [
       "<Figure size 432x288 with 1 Axes>"
      ]
     },
     "metadata": {
      "needs_background": "light"
     },
     "output_type": "display_data"
    }
   ],
   "source": [
    "plt.scatter(Y, preds)"
   ]
  }
 ],
 "metadata": {
  "kernelspec": {
   "display_name": "Python 3",
   "language": "python",
   "name": "python3"
  },
  "language_info": {
   "codemirror_mode": {
    "name": "ipython",
    "version": 3
   },
   "file_extension": ".py",
   "mimetype": "text/x-python",
   "name": "python",
   "nbconvert_exporter": "python",
   "pygments_lexer": "ipython3",
   "version": "3.7.3"
  }
 },
 "nbformat": 4,
 "nbformat_minor": 2
}
