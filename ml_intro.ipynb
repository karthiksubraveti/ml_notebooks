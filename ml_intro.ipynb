{
 "cells": [
  {
   "cell_type": "code",
   "execution_count": 1,
   "metadata": {},
   "outputs": [],
   "source": [
    "import torch\n",
    "import matplotlib.pyplot as plt"
   ]
  },
  {
   "cell_type": "code",
   "execution_count": 2,
   "metadata": {},
   "outputs": [],
   "source": [
    "X = torch.randn([100, 10]).float()"
   ]
  },
  {
   "cell_type": "code",
   "execution_count": 3,
   "metadata": {},
   "outputs": [
    {
     "data": {
      "text/plain": [
       "tensor([[-1.2094e+00, -1.2112e+00,  4.0869e-01,  7.9456e-01,  1.7137e-01,\n",
       "          3.0885e-01,  5.3007e-01,  1.2474e+00,  2.2788e-01,  4.4761e-01],\n",
       "        [-2.3939e-01, -1.5056e-01, -1.7836e+00, -6.2065e-01, -2.0435e+00,\n",
       "         -8.4164e-01,  4.8112e-01, -3.8602e-01,  7.7065e-01, -1.0203e-01],\n",
       "        [-1.4470e-01, -1.8870e-01, -1.9551e+00,  3.1590e-01, -4.1273e-01,\n",
       "          4.1119e-01,  4.1282e-01,  1.1465e-01,  1.6876e-01,  1.1823e-01],\n",
       "        [-7.1016e-01,  8.9035e-01, -7.0816e-01, -3.4221e-01,  3.1455e-01,\n",
       "         -1.6680e+00,  1.0277e+00,  4.9785e-01,  6.5956e-01, -3.3540e-01],\n",
       "        [ 4.4532e-01,  1.0464e+00,  4.3175e-01, -2.5819e-01, -7.6942e-01,\n",
       "         -2.4829e-01,  1.0032e+00,  3.4859e-01,  9.7942e-01,  5.2071e-01],\n",
       "        [-9.1611e-01, -5.5373e-01,  9.8861e-01,  1.9717e+00, -1.0548e+00,\n",
       "         -4.6532e-02,  3.3642e-01, -1.6906e+00,  2.6276e-01,  2.6730e+00],\n",
       "        [ 3.0809e-01, -2.1600e-01,  6.7416e-01, -1.7687e-01,  1.3781e-01,\n",
       "         -1.3812e+00,  4.5403e-01, -4.8632e-02,  4.9380e-01,  1.8569e+00],\n",
       "        [-1.1368e+00, -2.9437e-01,  4.8411e-01,  1.5698e+00, -5.4831e-04,\n",
       "          1.1618e+00,  5.9876e-01, -2.4720e-01,  5.7210e-03, -1.7761e+00],\n",
       "        [ 5.3153e-01, -3.3649e-01,  1.5282e-02, -7.5520e-02,  6.4332e-01,\n",
       "         -8.4596e-01, -7.2122e-01, -3.9759e-01, -4.2503e-02, -5.2354e-01],\n",
       "        [-1.9805e-01, -9.5865e-01,  6.4855e-01, -1.0019e+00, -1.2929e+00,\n",
       "          6.5789e-01, -1.3817e+00, -2.3178e-01, -9.5477e-01,  4.5594e-01],\n",
       "        [ 1.7874e-02, -6.0217e-01,  1.3747e-01,  7.8917e-01, -7.7054e-01,\n",
       "         -5.8823e-01, -1.8567e+00,  8.0118e-02,  1.3547e+00,  1.6128e+00],\n",
       "        [ 7.8891e-01, -1.8500e+00,  5.8404e-02, -1.4561e+00, -4.8331e-02,\n",
       "          2.0519e-01, -2.0198e-02,  1.7832e-01,  8.7190e-02, -6.2140e-01],\n",
       "        [ 1.8299e-01, -9.0619e-01, -1.7654e+00, -6.9138e-01,  4.7677e-01,\n",
       "         -1.0016e-01, -1.0475e+00,  2.0388e-01,  1.4617e+00, -1.0011e+00],\n",
       "        [ 8.3710e-01, -5.4781e-01, -1.5991e+00, -4.1413e-01, -1.0754e+00,\n",
       "         -1.7689e+00,  3.5299e-01,  6.0113e-01, -4.0218e-01,  1.6649e+00],\n",
       "        [-4.1193e-01, -5.0466e-01,  1.9405e+00, -1.5970e+00, -1.1760e+00,\n",
       "         -6.8224e-02, -5.0675e-01, -2.3090e-01, -1.3713e+00, -1.0847e+00],\n",
       "        [ 2.8663e-01, -2.5353e-01, -3.2880e-01,  5.2437e-01,  2.2089e-02,\n",
       "         -1.9884e+00,  6.2493e-02, -1.3936e+00, -1.0221e+00,  2.5404e-01],\n",
       "        [-5.9913e-01,  1.4548e+00,  1.6491e-01,  9.8926e-01, -2.3216e-01,\n",
       "          1.7713e-01, -1.3921e+00,  7.0348e-01,  3.7790e-01, -1.4905e+00],\n",
       "        [ 7.3545e-02,  1.8296e-01,  1.7926e+00,  4.0386e-01,  9.2759e-01,\n",
       "         -1.0531e+00, -2.3193e+00,  1.1468e+00, -1.2634e-01,  6.3312e-01],\n",
       "        [-7.8879e-01, -8.1446e-01,  2.1414e+00, -4.2176e-01,  9.7081e-01,\n",
       "         -1.7246e+00, -8.1187e-01,  1.0885e+00,  1.7675e+00, -1.4850e+00],\n",
       "        [ 1.2614e+00,  1.4182e+00, -2.3580e-01, -1.9108e-01, -3.0613e-01,\n",
       "          1.0521e+00, -1.3771e+00,  1.5711e-01,  3.9991e-01, -3.0562e+00],\n",
       "        [-4.8638e-01, -4.1379e-01, -5.8337e-02, -9.7816e-02, -2.5258e-01,\n",
       "         -3.5463e-02,  1.1009e+00, -1.2042e+00, -1.4432e+00,  9.0367e-01],\n",
       "        [ 8.3766e-01, -6.4936e-01,  1.1005e+00, -4.6334e-03,  2.6237e-01,\n",
       "          1.0111e+00,  2.5442e-01,  5.0904e-02,  5.3399e-01, -1.4076e+00],\n",
       "        [-1.4632e-01, -4.5670e-01,  1.3448e+00,  2.6631e+00,  1.2588e+00,\n",
       "         -2.5513e-01,  5.5737e-01, -7.3219e-02,  4.9487e-01, -1.2560e+00],\n",
       "        [-4.9761e-01, -2.2568e+00, -6.5325e-02, -1.0889e+00, -1.4124e+00,\n",
       "          1.0113e+00,  2.8610e-01, -4.6720e-01, -6.8491e-01,  2.3114e-01],\n",
       "        [-1.5925e-01,  9.5005e-03,  1.0942e+00,  9.9885e-01, -2.9059e-01,\n",
       "         -7.5617e-01,  7.2586e-01, -1.3370e+00,  5.0838e-01,  1.6178e+00],\n",
       "        [-9.2210e-01,  3.0916e-01, -1.1714e+00, -1.5928e+00,  5.8455e-01,\n",
       "         -1.8602e+00,  2.5874e-01,  9.2206e-02,  2.3616e-01,  1.4331e-01],\n",
       "        [ 5.8947e-01, -8.4664e-01, -8.1813e-01,  1.6143e+00, -1.3884e+00,\n",
       "          4.3575e-01,  2.6669e-01,  4.9469e-01, -9.1951e-01,  2.3799e-02],\n",
       "        [-2.0876e-01, -2.0858e-01,  1.0195e+00, -4.7552e-01,  1.0418e+00,\n",
       "         -5.0980e-01,  4.7973e-01,  1.5021e+00, -8.4047e-02, -3.2611e+00],\n",
       "        [-2.1860e-01,  1.7253e-01, -2.4279e+00, -1.0213e+00, -1.6337e-01,\n",
       "          5.4493e-01,  1.0047e+00, -2.3677e-01,  1.5328e-01, -4.1749e-02],\n",
       "        [ 1.3327e-01,  1.6454e+00,  1.2070e+00,  7.3698e-01,  1.3088e+00,\n",
       "          1.8503e-01, -1.5994e+00,  1.5378e+00, -5.3775e-01, -4.3074e-01],\n",
       "        [-1.1166e-01,  4.0477e-01, -1.5287e-01,  1.9518e-01, -3.2811e-01,\n",
       "         -3.0011e-01,  1.6209e+00, -3.6780e-01,  1.0553e+00, -2.6773e-01],\n",
       "        [-4.9584e-02,  1.1298e+00,  5.0579e-01, -1.2757e+00, -1.9327e-01,\n",
       "         -1.6652e+00, -6.8206e-01, -2.4620e-01,  1.0259e+00,  1.5890e+00],\n",
       "        [ 5.7821e-01,  1.4748e+00,  1.5120e+00,  5.6166e-01,  2.2197e+00,\n",
       "          7.8869e-01, -1.1413e+00,  7.0699e-01, -1.1785e+00,  2.0397e+00],\n",
       "        [ 1.4747e-02, -7.7974e-01,  6.2318e-01,  1.2299e+00, -5.3380e-01,\n",
       "          5.0315e-01,  4.1982e-01,  5.0533e-01,  1.4939e+00,  4.6314e-01],\n",
       "        [ 1.2457e+00,  6.0850e-01, -1.1060e+00, -1.0751e+00, -6.3753e-01,\n",
       "          2.4739e-01, -9.6429e-01, -6.8607e-01, -1.0486e+00,  4.6838e-01],\n",
       "        [ 7.3815e-02, -2.0581e+00,  1.0947e+00,  1.1997e+00,  1.0309e+00,\n",
       "          1.1598e+00,  2.4353e-01, -1.3514e+00, -3.3134e-01,  2.1092e+00],\n",
       "        [ 9.7782e-01, -8.5001e-01, -2.9662e-01, -1.5943e-01,  1.1956e-01,\n",
       "         -4.6399e-02, -4.9473e-01,  8.4221e-01, -1.6044e-01,  4.2399e-01],\n",
       "        [ 3.0065e+00,  8.8005e-01,  6.2737e-01, -8.9582e-01,  8.6067e-01,\n",
       "          2.1842e-01, -6.1680e-01,  2.3522e+00, -4.8528e-01,  1.4623e-01],\n",
       "        [-7.8015e-01, -1.5138e+00, -1.2734e+00, -9.0108e-01, -1.0414e+00,\n",
       "         -7.2407e-02,  1.1527e-01, -9.2395e-01, -2.3133e-01, -8.5276e-01],\n",
       "        [-8.0023e-01, -1.2910e+00,  7.4942e-01,  1.2746e+00,  1.6741e-01,\n",
       "          2.1774e-01,  4.5733e-01, -4.1088e-01, -1.2487e+00,  7.9414e-01],\n",
       "        [ 5.8677e-01,  6.6844e-01, -1.8935e-01, -2.3748e-01,  9.7455e-01,\n",
       "          4.6570e-01, -3.7020e-01, -3.3098e-01,  1.2279e+00, -8.1788e-01],\n",
       "        [ 3.1190e-01,  3.8010e-01, -4.2556e-03,  1.5341e+00, -1.3661e+00,\n",
       "          6.7937e-01,  4.3304e-01,  1.4898e+00, -4.6914e-01,  6.6717e-01],\n",
       "        [ 8.9685e-01,  9.9105e-01, -4.4257e-01,  7.7745e-01,  2.2269e-01,\n",
       "          8.0285e-01,  5.8491e-01,  1.6865e+00, -1.4332e+00,  1.0998e+00],\n",
       "        [-2.4349e+00, -1.6286e+00,  1.2130e-01, -1.3205e+00,  5.5766e-01,\n",
       "         -1.0281e-01,  6.4081e-02, -4.1542e-01, -5.5638e-02, -1.4048e+00],\n",
       "        [ 2.9899e-01, -8.4324e-01,  1.5302e+00, -1.7592e+00, -1.7064e-01,\n",
       "         -6.7106e-01,  1.3762e+00,  1.3516e+00, -2.1398e-01,  2.2348e-02],\n",
       "        [-1.6580e+00,  2.3055e-01, -3.4613e-01,  5.5497e-01,  2.4050e+00,\n",
       "          2.4497e-01,  4.3525e-01,  1.1583e-01, -4.0306e-01,  7.1763e-01],\n",
       "        [ 2.9252e-01, -1.1943e+00, -2.1799e-01,  9.2466e-01,  4.3773e-01,\n",
       "          5.6162e-01,  1.9261e-01,  6.7231e-01,  1.5184e+00,  1.7079e-01],\n",
       "        [ 2.7311e-01,  1.6264e+00,  9.8365e-01, -5.6755e-01,  4.1231e-01,\n",
       "         -2.8401e-01,  2.8460e-01, -6.8315e-01, -1.5210e+00, -8.7024e-01],\n",
       "        [-3.3037e-01,  1.2404e+00, -4.8918e-01, -4.9433e-01, -1.7294e-01,\n",
       "         -2.3653e+00, -4.7520e-01, -6.8547e-02,  7.3671e-01,  1.1711e+00],\n",
       "        [-7.1611e-01,  4.2431e-02, -4.9849e-01, -1.7337e-01,  2.9346e-01,\n",
       "          1.6434e-01,  4.2952e-01, -1.4264e+00, -2.0392e+00, -7.7268e-01],\n",
       "        [ 1.0347e-01,  1.4233e+00, -8.6758e-01,  1.6071e+00, -1.4204e+00,\n",
       "         -2.7260e-01, -7.6902e-01,  1.3344e+00,  1.2346e+00,  9.9668e-01],\n",
       "        [-2.8249e-01, -3.7766e-01, -1.7602e+00, -1.2745e-01, -2.1352e-01,\n",
       "         -3.2141e-01,  1.0322e+00,  2.2514e+00,  1.9173e+00,  2.7558e-01],\n",
       "        [-1.5264e-01,  1.0425e+00, -1.3962e-01,  3.9710e-01, -5.7186e-01,\n",
       "          2.8146e+00, -8.7893e-01, -1.2268e+00, -4.2553e-01,  8.7621e-01],\n",
       "        [ 4.8144e-01,  4.1186e-01,  1.4946e-01,  9.6150e-01, -7.2472e-01,\n",
       "         -8.3540e-01,  1.4722e-01, -7.7862e-01,  3.8786e-01,  1.6714e+00],\n",
       "        [-8.0444e-01,  1.5548e-01,  8.2694e-01, -1.4256e+00,  4.5276e-01,\n",
       "          7.6183e-01,  4.1344e-01,  1.6066e+00,  7.4529e-01, -1.1176e+00],\n",
       "        [-9.7881e-01, -8.6127e-01,  6.3870e-01,  2.0161e+00, -5.8347e-01,\n",
       "         -1.1058e+00, -1.3082e-01, -4.1190e-01, -5.1706e-01,  2.0647e+00],\n",
       "        [-2.0400e+00, -7.4143e-01, -4.8511e-01, -3.0772e+00,  3.1693e-02,\n",
       "         -2.5161e-01, -9.5669e-01,  1.8833e-01, -9.2966e-01,  4.1267e-01],\n",
       "        [ 1.3554e+00,  7.4082e-01,  1.9170e+00, -6.1460e-01, -1.2446e+00,\n",
       "          7.4842e-01,  1.1852e-01,  2.9289e-01, -6.0180e-01, -1.8572e-01],\n",
       "        [-3.6195e-01, -6.2593e-01, -1.7349e+00,  1.8522e+00, -5.6904e-01,\n",
       "          4.0996e-01,  1.1038e+00, -5.1571e-01,  1.2314e+00, -2.6953e-01],\n",
       "        [-5.3793e-01, -1.4920e+00, -5.6933e-02,  5.9613e-01,  5.4440e-01,\n",
       "         -1.7319e+00,  9.5028e-01, -4.1732e-01, -8.9097e-01, -2.8617e-01],\n",
       "        [ 9.5524e-01,  5.9098e-02,  2.2396e-01, -7.9515e-01, -1.3047e-01,\n",
       "         -5.7930e-01, -7.5822e-02,  1.1746e+00,  9.8013e-02,  1.4266e-01],\n",
       "        [ 7.5048e-01, -4.6029e-01,  2.4752e+00,  8.9119e-01, -5.4439e-01,\n",
       "          7.8911e-01, -1.0969e+00, -2.2454e-01,  4.7325e-01, -1.1665e+00],\n",
       "        [ 7.3613e-01,  1.8684e+00, -5.3658e-01, -3.4831e-01, -6.5407e-01,\n",
       "         -5.3292e-01, -4.3435e-01,  2.6499e-01,  1.7908e-01, -1.3311e-01],\n",
       "        [ 3.6199e-01,  7.0863e-01,  8.7433e-01,  1.9581e+00, -8.7239e-01,\n",
       "          1.7569e+00,  1.7341e+00, -4.5960e-01,  4.3821e-01,  1.7663e+00],\n",
       "        [-1.4264e+00,  5.1194e-01, -1.7128e+00,  4.4224e-01,  3.0108e-01,\n",
       "         -1.9117e+00,  8.1458e-01, -1.3033e+00, -2.6187e-01, -6.4359e-01],\n",
       "        [-1.5307e-01, -4.6574e-03,  1.1680e+00, -1.1614e+00, -7.5264e-01,\n",
       "          1.9396e+00,  2.5944e-01,  2.8625e-01,  1.4440e+00,  1.5244e-02],\n",
       "        [-1.8195e+00, -1.2571e+00,  1.3123e+00,  2.2589e-01,  1.8609e+00,\n",
       "         -4.6442e-01,  1.2354e+00,  1.0974e+00, -8.4631e-01,  1.5816e+00],\n",
       "        [-3.6209e-04,  2.6549e-01, -1.4425e+00,  2.0184e-02,  8.1818e-01,\n",
       "          3.7186e-01,  1.7764e-01,  6.7563e-01,  4.0928e-01,  6.8842e-02],\n",
       "        [ 8.0080e-01, -1.6297e+00,  1.2295e+00, -1.1683e+00, -1.3815e+00,\n",
       "         -2.8091e-01,  1.3283e+00,  3.9692e-01, -3.6451e-01, -6.2822e-01],\n",
       "        [ 1.4321e+00, -4.0499e-03,  9.8129e-01, -1.2579e-01, -3.1594e-01,\n",
       "         -4.6144e-01,  1.6903e-01,  1.1732e+00, -9.9370e-01, -6.3217e-01],\n",
       "        [ 2.4119e-01, -1.5297e+00,  1.0841e-01, -2.3630e-02, -3.7880e-01,\n",
       "          5.7272e-01, -7.3582e-01, -1.1947e+00, -3.4073e-01, -4.4197e-01],\n",
       "        [-1.0369e+00,  9.6633e-01, -1.1351e+00, -7.5212e-01,  4.1644e-01,\n",
       "          1.3888e+00,  2.1255e-01, -1.0888e+00, -1.9010e+00, -6.2743e-01],\n",
       "        [-4.8606e-01,  3.4996e-01, -2.0059e+00, -3.6611e-01,  2.1567e+00,\n",
       "         -1.4158e+00, -1.4679e-01, -5.5553e-01,  8.0047e-01,  2.3615e+00],\n",
       "        [-1.1223e+00, -4.5149e-01, -2.2204e+00, -8.6635e-01, -3.3849e-01,\n",
       "          4.4258e-01, -8.9647e-01, -7.0853e-01, -2.8784e-02,  6.5077e-01],\n",
       "        [-5.1102e-01,  4.2866e-01, -4.8076e-01,  1.8030e-01,  2.2149e+00,\n",
       "          3.9138e-01, -8.5217e-02,  6.6410e-01, -2.1199e+00,  6.8586e-01],\n",
       "        [-1.6362e-01, -4.9907e-01, -6.0057e-01,  3.9748e-01, -8.8734e-01,\n",
       "         -1.4974e+00,  1.2306e-01, -6.0330e-01, -8.4051e-01,  2.9176e-01],\n",
       "        [-1.0213e+00,  5.5504e-01,  1.2138e-01,  4.5539e-01,  1.2720e+00,\n",
       "          6.1581e-01, -3.6774e-02, -1.5131e+00, -1.3108e-01,  4.3885e-01],\n",
       "        [-8.6875e-02,  4.1049e-01, -5.6846e-02,  1.2786e+00, -2.5315e-01,\n",
       "          1.5053e-01, -4.8751e-01,  4.0249e-02, -1.2877e-01, -1.2506e+00],\n",
       "        [-5.7010e-02, -7.4905e-01, -4.9424e-01,  2.1151e-01, -3.9626e-01,\n",
       "         -1.0348e+00,  1.3894e+00,  3.6933e-01,  7.2053e-01,  1.1559e+00],\n",
       "        [ 1.3518e+00, -6.7132e-01, -9.1844e-02,  8.4636e-01,  2.2514e-01,\n",
       "          1.5014e+00, -6.2934e-01, -4.7737e-01,  8.3167e-01, -4.2835e-01],\n",
       "        [-2.5516e-01,  2.5155e-01,  1.2205e+00, -5.6140e-02, -8.5923e-01,\n",
       "          1.2773e+00,  1.9760e-01, -1.1040e-01, -5.4436e-01,  9.6757e-01],\n",
       "        [-2.8214e-01, -7.5365e-01, -5.2615e-01,  6.2904e-02, -6.2018e-01,\n",
       "         -1.4696e+00,  5.8537e-01,  1.5263e+00, -3.8755e-01,  1.5570e-01],\n",
       "        [ 6.2062e-01, -6.3891e-01, -2.3721e-01,  1.6728e-01,  1.9288e+00,\n",
       "         -4.1385e-01, -8.8019e-02,  6.0629e-01,  4.9050e-01, -1.0663e+00],\n",
       "        [-6.7537e-02, -6.0321e-01, -2.0077e+00,  7.7509e-01,  7.4982e-01,\n",
       "         -2.4516e-01,  1.1103e+00, -2.5869e-01,  1.3833e+00,  6.7110e-02],\n",
       "        [ 1.0960e+00,  4.0173e-02, -7.5002e-01,  7.2787e-01,  1.5966e+00,\n",
       "          3.0163e-01,  9.0940e-02,  8.2884e-01, -1.1985e+00, -1.5039e+00],\n",
       "        [-8.4670e-02,  1.5760e+00, -1.7858e-01,  3.7846e-01,  2.6308e-01,\n",
       "          3.7597e-01,  8.2922e-01, -2.5737e+00,  7.7548e-01,  7.9058e-01],\n",
       "        [-1.4097e+00, -9.7046e-03, -7.7409e-01, -1.0901e-01, -3.2254e-01,\n",
       "         -1.3617e+00,  4.7255e-01,  4.4237e-01, -1.2151e+00,  6.0077e-01],\n",
       "        [-1.3423e+00, -4.0438e-01,  4.0919e-02, -6.3381e-01, -1.1485e+00,\n",
       "         -8.6685e-02,  1.0642e+00,  5.7191e-01, -1.9803e-01,  2.3495e-01],\n",
       "        [-1.9607e+00,  3.1754e-01,  1.4868e+00,  7.8882e-01, -1.6983e+00,\n",
       "         -1.6482e-01, -6.1584e-02,  2.7728e-01,  6.2738e-01,  9.5820e-01],\n",
       "        [ 1.2417e+00,  8.2287e-01,  4.6055e-02, -2.9023e-01, -1.3127e-01,\n",
       "         -4.9030e-01,  2.2547e-01,  1.3724e+00, -1.7692e-01, -1.3132e+00],\n",
       "        [-2.1295e-01, -4.8322e-01, -2.9330e-01,  3.6974e-02,  9.5800e-01,\n",
       "          1.0878e+00,  8.3594e-01, -6.4699e-01, -8.4314e-01,  1.1652e+00],\n",
       "        [-1.2297e+00,  4.5994e-01,  6.2499e-01, -3.0188e+00,  3.6036e-01,\n",
       "          3.5848e-01, -4.6955e-03,  2.1931e-02, -2.6803e-01,  1.0695e+00],\n",
       "        [ 6.8854e-01, -9.0760e-01, -4.2589e-01,  2.6476e-01, -2.0460e+00,\n",
       "         -1.0511e+00,  7.4923e-01,  1.3282e+00, -5.4668e-01, -5.5388e-01],\n",
       "        [ 1.7421e+00, -1.9547e+00,  5.7504e-01, -1.9082e+00, -8.7009e-01,\n",
       "         -1.3788e+00,  2.6677e-01,  1.9241e-01, -1.5251e+00, -1.1655e-01],\n",
       "        [ 1.9480e+00, -8.3263e-01, -9.7145e-01, -2.2420e-01, -1.8727e+00,\n",
       "         -1.5881e+00, -1.1319e-01,  3.1378e-01,  1.0532e+00,  2.2353e-01],\n",
       "        [-5.0889e-01, -1.1110e-03, -2.7322e-01, -1.2598e-01, -1.3640e+00,\n",
       "         -4.3995e-01, -3.4267e-01,  1.8390e+00,  4.6736e-02, -6.8465e-01],\n",
       "        [ 6.2114e-01, -5.7535e-01, -3.1813e+00,  5.9826e-01, -9.3763e-01,\n",
       "         -4.9764e-01, -2.2007e-01, -8.8604e-03, -7.9825e-01, -8.5742e-02],\n",
       "        [ 1.9985e+00,  1.6861e+00, -2.6121e-01,  1.3104e+00,  6.8762e-01,\n",
       "         -3.9012e-01, -3.7591e-01, -9.3806e-01, -3.2892e-01, -2.1556e-01],\n",
       "        [-6.7214e-01, -3.2642e-01, -1.2736e+00,  2.3031e+00, -2.6538e-01,\n",
       "         -4.2870e-01, -2.5093e-01, -1.7760e+00, -1.8090e-01,  3.9381e-01],\n",
       "        [-4.2728e-01, -6.8646e-01, -1.7443e+00, -1.5771e-01, -7.3880e-01,\n",
       "         -3.9451e-01,  4.9147e-01, -1.5411e+00, -2.4352e+00, -2.8876e-01]])"
      ]
     },
     "execution_count": 3,
     "metadata": {},
     "output_type": "execute_result"
    }
   ],
   "source": [
    "X"
   ]
  },
  {
   "cell_type": "code",
   "execution_count": 4,
   "metadata": {},
   "outputs": [
    {
     "data": {
      "text/plain": [
       "tensor([0.2277, 0.2642, 0.2653, 0.5974, 0.0029, 0.5327, 0.0336, 0.1126, 0.5650,\n",
       "        0.7394])"
      ]
     },
     "execution_count": 4,
     "metadata": {},
     "output_type": "execute_result"
    }
   ],
   "source": [
    "A = torch.rand(10)\n",
    "A"
   ]
  },
  {
   "cell_type": "code",
   "execution_count": 5,
   "metadata": {},
   "outputs": [],
   "source": [
    "Y =  X @ A"
   ]
  },
  {
   "cell_type": "markdown",
   "metadata": {},
   "source": [
    "### Goal is to automatically figure out the function Y given X"
   ]
  },
  {
   "cell_type": "markdown",
   "metadata": {},
   "source": [
    "Let us start by randomly initializing a function F(X) with random set of weights"
   ]
  },
  {
   "cell_type": "code",
   "execution_count": 6,
   "metadata": {},
   "outputs": [],
   "source": [
    "def mse(y, y1):\n",
    "    \n",
    "    return sum((y-y1)**2)/len(y)\n",
    "\n",
    "def relu(X):\n",
    "    return X.clamp_min(0)\n",
    "\n",
    "def grad_mse(y, y1):\n",
    "    return (y-y1) / (2 * len(Y))\n",
    "\n",
    "def grad_relu(outg, inp):\n",
    "    return outg * (inp > 0).float()\n",
    "\n",
    "def grad_linear(outg, inp, w):\n",
    "    grad_w = inp.t() @ outg\n",
    "    grad_inp = outg @ w.t()\n",
    "    return grad_inp, grad_w"
   ]
  },
  {
   "cell_type": "code",
   "execution_count": 7,
   "metadata": {},
   "outputs": [],
   "source": [
    "W1 = torch.randn([10, 5])\n",
    "W2 = torch.randn([5, 1])\n",
    "B1 = torch.ones([100, 1])\n",
    "B2 = torch.ones([100, 1])"
   ]
  },
  {
   "cell_type": "code",
   "execution_count": 8,
   "metadata": {},
   "outputs": [
    {
     "name": "stdout",
     "output_type": "stream",
     "text": [
      "loss is tensor(26.4740)\n"
     ]
    }
   ],
   "source": [
    "G = X @ W1 + B1\n",
    "A = relu(G)\n",
    "preds = A @ W2 + B2\n",
    "print(\"loss is\", mse(Y, preds.flatten()))"
   ]
  },
  {
   "cell_type": "code",
   "execution_count": 9,
   "metadata": {},
   "outputs": [],
   "source": [
    "Y.ndim = 2\n",
    "preds.ndim = 2"
   ]
  },
  {
   "cell_type": "code",
   "execution_count": 10,
   "metadata": {},
   "outputs": [
    {
     "data": {
      "text/plain": [
       "<matplotlib.collections.PathCollection at 0x128571240>"
      ]
     },
     "execution_count": 10,
     "metadata": {},
     "output_type": "execute_result"
    },
    {
     "data": {
      "image/png": "[encoded data removed]",
      "text/plain": [
       "<Figure size 432x288 with 1 Axes>"
      ]
     },
     "metadata": {
      "needs_background": "light"
     },
     "output_type": "display_data"
    }
   ],
   "source": [
    "plt.scatter(Y, preds)"
   ]
  },
  {
   "cell_type": "code",
   "execution_count": 11,
   "metadata": {},
   "outputs": [
    {
     "data": {
      "text/plain": [
       "(tensor([ 4.6948e-02, -9.1407e-03, -3.8243e-03, -8.3437e-03,  4.3564e-03,\n",
       "          3.9577e-02, -2.1818e-03,  4.6543e-02, -9.7198e-03,  4.6011e-02,\n",
       "          2.0377e-02,  2.3170e-03, -1.6694e-02, -9.1391e-03,  4.7395e-02,\n",
       "         -1.1300e-02,  2.9377e-02,  3.4044e-02,  3.2822e-02, -8.7129e-03,\n",
       "          1.2128e-02,  8.1954e-03,  1.8777e-02,  4.1129e-02,  1.2891e-02,\n",
       "         -7.9383e-03,  8.2458e-03,  2.4631e-02,  2.8179e-03,  3.6920e-02,\n",
       "          1.7546e-04,  3.7928e-03,  3.8782e-02,  1.2010e-02, -6.8914e-03,\n",
       "          3.6846e-02, -6.5915e-03, -7.1759e-03,  1.5968e-02,  4.1048e-02,\n",
       "          8.4168e-04,  2.0936e-02,  1.1849e-02,  6.9865e-02,  1.2724e-02,\n",
       "          4.7073e-02, -3.8562e-03,  5.9623e-03, -2.1485e-03,  2.2111e-02,\n",
       "          1.6912e-02, -8.8272e-03,  4.6862e-02,  6.8108e-03,  4.3831e-02,\n",
       "          3.5118e-02,  6.8220e-02,  1.5105e-02,  1.2503e-03,  2.1739e-03,\n",
       "         -6.2243e-03,  3.0599e-02,  3.5446e-05,  2.7875e-02, -1.1816e-02,\n",
       "          3.3188e-02,  6.1203e-02,  5.0916e-03,  2.9433e-03,  4.2097e-04,\n",
       "          1.9153e-02,  3.9406e-02, -2.0970e-03,  1.8972e-02,  3.8957e-02,\n",
       "          1.5484e-03,  3.7361e-02,  1.3712e-02, -3.9791e-03, -3.1095e-03,\n",
       "          4.0098e-02,  6.8465e-03, -1.0527e-03, -6.9694e-03,  6.5834e-03,\n",
       "          1.5623e-02,  1.4998e-02,  2.8872e-02,  5.3887e-02, -8.4138e-03,\n",
       "          2.9675e-02,  4.8860e-02,  3.8458e-03, -8.3799e-03, -1.7210e-02,\n",
       "          2.4739e-02, -1.5775e-02,  4.8990e-03,  9.8536e-03, -1.6997e-03]),\n",
       " torch.Size([100]))"
      ]
     },
     "execution_count": 11,
     "metadata": {},
     "output_type": "execute_result"
    }
   ],
   "source": [
    "grad_output = grad_mse(Y, preds.flatten())\n",
    "grad_output, grad_output.shape"
   ]
  },
  {
   "cell_type": "code",
   "execution_count": 12,
   "metadata": {},
   "outputs": [],
   "source": [
    "grad_output = grad_output[:, None]"
   ]
  },
  {
   "cell_type": "code",
   "execution_count": 13,
   "metadata": {},
   "outputs": [
    {
     "data": {
      "text/plain": [
       "(tensor([[-1.2314e-02, -4.1403e-02, -8.9683e-03, -6.8457e-02,  1.8519e-02],\n",
       "         [ 2.3976e-03,  8.0611e-03,  1.7461e-03,  1.3329e-02, -3.6057e-03],\n",
       "         [ 1.0031e-03,  3.3726e-03,  7.3055e-04,  5.5765e-03, -1.5086e-03],\n",
       "         [ 2.1885e-03,  7.3582e-03,  1.5939e-03,  1.2166e-02, -3.2913e-03],\n",
       "         [-1.1427e-03, -3.8418e-03, -8.3219e-04, -6.3523e-03,  1.7184e-03],\n",
       "         [-1.0381e-02, -3.4902e-02, -7.5603e-03, -5.7710e-02,  1.5612e-02],\n",
       "         [ 5.7228e-04,  1.9241e-03,  4.1678e-04,  3.1814e-03, -8.6064e-04],\n",
       "         [-1.2208e-02, -4.1046e-02, -8.8911e-03, -6.7868e-02,  1.8360e-02],\n",
       "         [ 2.5495e-03,  8.5718e-03,  1.8568e-03,  1.4173e-02, -3.8341e-03],\n",
       "         [-1.2069e-02, -4.0576e-02, -8.7893e-03, -6.7091e-02,  1.8150e-02],\n",
       "         [-5.3449e-03, -1.7970e-02, -3.8926e-03, -2.9713e-02,  8.0380e-03],\n",
       "         [-6.0775e-04, -2.0433e-03, -4.4261e-04, -3.3786e-03,  9.1398e-04],\n",
       "         [ 4.3789e-03,  1.4722e-02,  3.1891e-03,  2.4343e-02, -6.5853e-03],\n",
       "         [ 2.3972e-03,  8.0597e-03,  1.7458e-03,  1.3326e-02, -3.6051e-03],\n",
       "         [-1.2432e-02, -4.1797e-02, -9.0538e-03, -6.9109e-02,  1.8696e-02],\n",
       "         [ 2.9640e-03,  9.9653e-03,  2.1586e-03,  1.6477e-02, -4.4574e-03],\n",
       "         [-7.7054e-03, -2.5907e-02, -5.6118e-03, -4.2836e-02,  1.1588e-02],\n",
       "         [-8.9297e-03, -3.0023e-02, -6.5034e-03, -4.9642e-02,  1.3429e-02],\n",
       "         [-8.6091e-03, -2.8945e-02, -6.2699e-03, -4.7860e-02,  1.2947e-02],\n",
       "         [ 2.2854e-03,  7.6838e-03,  1.6644e-03,  1.2705e-02, -3.4369e-03],\n",
       "         [-3.1812e-03, -1.0696e-02, -2.3168e-03, -1.7685e-02,  4.7842e-03],\n",
       "         [-2.1497e-03, -7.2275e-03, -1.5656e-03, -1.1950e-02,  3.2328e-03],\n",
       "         [-4.9253e-03, -1.6560e-02, -3.5870e-03, -2.7380e-02,  7.4070e-03],\n",
       "         [-1.0788e-02, -3.6271e-02, -7.8568e-03, -5.9973e-02,  1.6224e-02],\n",
       "         [-3.3813e-03, -1.1368e-02, -2.4625e-03, -1.8797e-02,  5.0850e-03],\n",
       "         [ 2.0822e-03,  7.0007e-03,  1.5164e-03,  1.1575e-02, -3.1314e-03],\n",
       "         [-2.1629e-03, -7.2719e-03, -1.5752e-03, -1.2024e-02,  3.2527e-03],\n",
       "         [-6.4606e-03, -2.1721e-02, -4.7051e-03, -3.5915e-02,  9.7159e-03],\n",
       "         [-7.3914e-04, -2.4851e-03, -5.3831e-04, -4.1090e-03,  1.1116e-03],\n",
       "         [-9.6842e-03, -3.2560e-02, -7.0528e-03, -5.3836e-02,  1.4564e-02],\n",
       "         [-4.6023e-05, -1.5474e-04, -3.3518e-05, -2.5585e-04,  6.9213e-05],\n",
       "         [-9.9484e-04, -3.3448e-03, -7.2453e-04, -5.5305e-03,  1.4961e-03],\n",
       "         [-1.0172e-02, -3.4201e-02, -7.4084e-03, -5.6550e-02,  1.5298e-02],\n",
       "         [-3.1502e-03, -1.0591e-02, -2.2942e-03, -1.7512e-02,  4.7374e-03],\n",
       "         [ 1.8076e-03,  6.0774e-03,  1.3164e-03,  1.0049e-02, -2.7184e-03],\n",
       "         [-9.6647e-03, -3.2494e-02, -7.0386e-03, -5.3727e-02,  1.4534e-02],\n",
       "         [ 1.7289e-03,  5.8130e-03,  1.2592e-03,  9.6115e-03, -2.6001e-03],\n",
       "         [ 1.8822e-03,  6.3284e-03,  1.3708e-03,  1.0464e-02, -2.8307e-03],\n",
       "         [-4.1884e-03, -1.4082e-02, -3.0503e-03, -2.3284e-02,  6.2988e-03],\n",
       "         [-1.0767e-02, -3.6200e-02, -7.8413e-03, -5.9854e-02,  1.6192e-02],\n",
       "         [-2.2077e-04, -7.4227e-04, -1.6078e-04, -1.2273e-03,  3.3201e-04],\n",
       "         [-5.4916e-03, -1.8464e-02, -3.9995e-03, -3.0529e-02,  8.2587e-03],\n",
       "         [-3.1081e-03, -1.0450e-02, -2.2635e-03, -1.7278e-02,  4.6741e-03],\n",
       "         [-1.8325e-02, -6.1613e-02, -1.3346e-02, -1.0187e-01,  2.7559e-02],\n",
       "         [-3.3375e-03, -1.1221e-02, -2.4307e-03, -1.8554e-02,  5.0192e-03],\n",
       "         [-1.2347e-02, -4.1513e-02, -8.9922e-03, -6.8640e-02,  1.8569e-02],\n",
       "         [ 1.0115e-03,  3.4007e-03,  7.3663e-04,  5.6229e-03, -1.5211e-03],\n",
       "         [-1.5639e-03, -5.2581e-03, -1.1390e-03, -8.6940e-03,  2.3519e-03],\n",
       "         [ 5.6356e-04,  1.8948e-03,  4.1043e-04,  3.1329e-03, -8.4753e-04],\n",
       "         [-5.7997e-03, -1.9499e-02, -4.2238e-03, -3.2241e-02,  8.7220e-03],\n",
       "         [-4.4360e-03, -1.4915e-02, -3.2307e-03, -2.4660e-02,  6.6712e-03],\n",
       "         [ 2.3154e-03,  7.7846e-03,  1.6862e-03,  1.2872e-02, -3.4820e-03],\n",
       "         [-1.2292e-02, -4.1327e-02, -8.9519e-03, -6.8332e-02,  1.8485e-02],\n",
       "         [-1.7865e-03, -6.0064e-03, -1.3011e-03, -9.9313e-03,  2.6866e-03],\n",
       "         [-1.1497e-02, -3.8654e-02, -8.3730e-03, -6.3913e-02,  1.7290e-02],\n",
       "         [-9.2115e-03, -3.0970e-02, -6.7086e-03, -5.1208e-02,  1.3853e-02],\n",
       "         [-1.7894e-02, -6.0163e-02, -1.3032e-02, -9.9476e-02,  2.6910e-02],\n",
       "         [-3.9621e-03, -1.3321e-02, -2.8855e-03, -2.2026e-02,  5.9585e-03],\n",
       "         [-3.2795e-04, -1.1026e-03, -2.3884e-04, -1.8231e-03,  4.9320e-04],\n",
       "         [-5.7022e-04, -1.9172e-03, -4.1528e-04, -3.1699e-03,  8.5754e-04],\n",
       "         [ 1.6326e-03,  5.4892e-03,  1.1890e-03,  9.0760e-03, -2.4553e-03],\n",
       "         [-8.0260e-03, -2.6985e-02, -5.8452e-03, -4.4618e-02,  1.2070e-02],\n",
       "         [-9.2975e-06, -3.1260e-05, -6.7712e-06, -5.1686e-05,  1.3982e-05],\n",
       "         [-7.3116e-03, -2.4583e-02, -5.3249e-03, -4.0646e-02,  1.0996e-02],\n",
       "         [ 3.0994e-03,  1.0421e-02,  2.2572e-03,  1.7230e-02, -4.6611e-03],\n",
       "         [-8.7052e-03, -2.9268e-02, -6.3398e-03, -4.8393e-02,  1.3091e-02],\n",
       "         [-1.6054e-02, -5.3975e-02, -1.1692e-02, -8.9244e-02,  2.4143e-02],\n",
       "         [-1.3355e-03, -4.4902e-03, -9.7263e-04, -7.4243e-03,  2.0084e-03],\n",
       "         [-7.7202e-04, -2.5956e-03, -5.6225e-04, -4.2918e-03,  1.1610e-03],\n",
       "         [-1.1042e-04, -3.7125e-04, -8.0417e-05, -6.1384e-04,  1.6606e-04],\n",
       "         [-5.0237e-03, -1.6891e-02, -3.6587e-03, -2.7928e-02,  7.5551e-03],\n",
       "         [-1.0336e-02, -3.4752e-02, -7.5276e-03, -5.7460e-02,  1.5544e-02],\n",
       "         [ 5.5005e-04,  1.8494e-03,  4.0059e-04,  3.0578e-03, -8.2721e-04],\n",
       "         [-4.9764e-03, -1.6732e-02, -3.6243e-03, -2.7665e-02,  7.4839e-03],\n",
       "         [-1.0218e-02, -3.4356e-02, -7.4418e-03, -5.6805e-02,  1.5367e-02],\n",
       "         [-4.0614e-04, -1.3655e-03, -2.9579e-04, -2.2578e-03,  6.1079e-04],\n",
       "         [-9.7996e-03, -3.2948e-02, -7.1369e-03, -5.4478e-02,  1.4737e-02],\n",
       "         [-3.5965e-03, -1.2092e-02, -2.6193e-03, -1.9994e-02,  5.4087e-03],\n",
       "         [ 1.0437e-03,  3.5091e-03,  7.6011e-04,  5.8021e-03, -1.5696e-03],\n",
       "         [ 8.1562e-04,  2.7422e-03,  5.9400e-04,  4.5342e-03, -1.2266e-03],\n",
       "         [-1.0518e-02, -3.5362e-02, -7.6599e-03, -5.8469e-02,  1.5817e-02],\n",
       "         [-1.7958e-03, -6.0379e-03, -1.3079e-03, -9.9833e-03,  2.7007e-03],\n",
       "         [ 2.7613e-04,  9.2839e-04,  2.0110e-04,  1.5351e-03, -4.1527e-04],\n",
       "         [ 1.8281e-03,  6.1463e-03,  1.3314e-03,  1.0163e-02, -2.7492e-03],\n",
       "         [-1.7268e-03, -5.8058e-03, -1.2576e-03, -9.5997e-03,  2.5969e-03],\n",
       "         [-4.0979e-03, -1.3778e-02, -2.9845e-03, -2.2781e-02,  6.1628e-03],\n",
       "         [-3.9340e-03, -1.3227e-02, -2.8651e-03, -2.1870e-02,  5.9162e-03],\n",
       "         [-7.5730e-03, -2.5462e-02, -5.5153e-03, -4.2099e-02,  1.1389e-02],\n",
       "         [-1.4134e-02, -4.7522e-02, -1.0294e-02, -7.8575e-02,  2.1256e-02],\n",
       "         [ 2.2069e-03,  7.4200e-03,  1.6073e-03,  1.2269e-02, -3.3189e-03],\n",
       "         [-7.7838e-03, -2.6170e-02, -5.6688e-03, -4.3271e-02,  1.1706e-02],\n",
       "         [-1.2816e-02, -4.3089e-02, -9.3337e-03, -7.1246e-02,  1.9274e-02],\n",
       "         [-1.0087e-03, -3.3916e-03, -7.3465e-04, -5.6078e-03,  1.5170e-03],\n",
       "         [ 2.1980e-03,  7.3902e-03,  1.6008e-03,  1.2219e-02, -3.3056e-03],\n",
       "         [ 4.5141e-03,  1.5177e-02,  3.2875e-03,  2.5094e-02, -6.7886e-03],\n",
       "         [-6.4890e-03, -2.1817e-02, -4.7259e-03, -3.6074e-02,  9.7587e-03],\n",
       "         [ 4.1378e-03,  1.3912e-02,  3.0135e-03,  2.3002e-02, -6.2227e-03],\n",
       "         [-1.2850e-03, -4.3203e-03, -9.3584e-04, -7.1435e-03,  1.9325e-03],\n",
       "         [-2.5846e-03, -8.6898e-03, -1.8823e-03, -1.4368e-02,  3.8869e-03],\n",
       "         [ 4.4582e-04,  1.4989e-03,  3.2469e-04,  2.4784e-03, -6.7047e-04]]),\n",
       " tensor([[3.3699],\n",
       "         [6.6760],\n",
       "         [2.1754],\n",
       "         [5.1113],\n",
       "         [0.5813]]),\n",
       " torch.Size([100, 5]),\n",
       " torch.Size([5, 1]))"
      ]
     },
     "execution_count": 13,
     "metadata": {},
     "output_type": "execute_result"
    }
   ],
   "source": [
    "grad_acts, grad_w2 = grad_linear(grad_output, A, W2)\n",
    "grad_acts, grad_w2, grad_acts.shape, grad_w2.shape"
   ]
  },
  {
   "cell_type": "code",
   "execution_count": 14,
   "metadata": {},
   "outputs": [
    {
     "data": {
      "text/plain": [
       "torch.Size([100, 5])"
      ]
     },
     "execution_count": 14,
     "metadata": {},
     "output_type": "execute_result"
    }
   ],
   "source": [
    "grad_G = grad_relu(grad_acts, G)\n",
    "grad_G.shape"
   ]
  },
  {
   "cell_type": "code",
   "execution_count": 15,
   "metadata": {},
   "outputs": [
    {
     "data": {
      "text/plain": [
       "(tensor([[ 0.1352,  0.8835,  0.1367,  1.7431, -0.0822],\n",
       "         [-0.0560,  0.3603, -0.0245,  0.6122,  0.0322],\n",
       "         [-0.1450, -0.5986, -0.1162, -1.2525,  0.2350],\n",
       "         [-0.1391,  0.3388,  0.0836,  0.0446, -0.0164],\n",
       "         [-0.0409, -0.3429, -0.0624, -0.1582,  0.0733],\n",
       "         [-0.1700, -0.5297, -0.0756, -0.6595,  0.1731],\n",
       "         [-0.0031,  0.0459,  0.0462,  0.2670, -0.1270],\n",
       "         [ 0.0605, -0.0497, -0.0616, -0.1605, -0.0074],\n",
       "         [ 0.0774,  0.5465,  0.0861,  0.7078, -0.0019],\n",
       "         [-0.1520, -0.0540, -0.0467, -0.4973,  0.1033]]), torch.Size([10, 5]))"
      ]
     },
     "execution_count": 15,
     "metadata": {},
     "output_type": "execute_result"
    }
   ],
   "source": [
    "_, grad_w1 = grad_linear(grad_G, X, W1)\n",
    "grad_w1, grad_w1.shape"
   ]
  },
  {
   "cell_type": "markdown",
   "metadata": {},
   "source": [
    "# Now let's run everything together"
   ]
  },
  {
   "cell_type": "code",
   "execution_count": 16,
   "metadata": {},
   "outputs": [
    {
     "name": "stdout",
     "output_type": "stream",
     "text": [
      "loss is tensor(26.4740)\n",
      "loss is tensor(5.7269)\n",
      "loss is tensor(3.6708)\n",
      "loss is tensor(2.7735)\n",
      "loss is tensor(2.3265)\n",
      "loss is tensor(2.0768)\n",
      "loss is tensor(1.9237)\n",
      "loss is tensor(1.8222)\n",
      "loss is tensor(1.7483)\n",
      "loss is tensor(1.6933)\n",
      "loss is tensor(1.6510)\n",
      "loss is tensor(1.6169)\n",
      "loss is tensor(1.5889)\n",
      "loss is tensor(1.5653)\n",
      "loss is tensor(1.5447)\n",
      "loss is tensor(1.5264)\n",
      "loss is tensor(1.5095)\n",
      "loss is tensor(1.4931)\n",
      "loss is tensor(1.4775)\n",
      "loss is tensor(1.4625)\n",
      "loss is tensor(1.4482)\n",
      "loss is tensor(1.4346)\n",
      "loss is tensor(1.4212)\n",
      "loss is tensor(1.4081)\n",
      "loss is tensor(1.3950)\n",
      "loss is tensor(1.3817)\n",
      "loss is tensor(1.3685)\n",
      "loss is tensor(1.3552)\n",
      "loss is tensor(1.3419)\n",
      "loss is tensor(1.3285)\n",
      "loss is tensor(1.3151)\n",
      "loss is tensor(1.3018)\n",
      "loss is tensor(1.2884)\n",
      "loss is tensor(1.2751)\n",
      "loss is tensor(1.2617)\n",
      "loss is tensor(1.2483)\n",
      "loss is tensor(1.2352)\n",
      "loss is tensor(1.2220)\n",
      "loss is tensor(1.2089)\n",
      "loss is tensor(1.1956)\n",
      "loss is tensor(1.1821)\n",
      "loss is tensor(1.1686)\n",
      "loss is tensor(1.1551)\n",
      "loss is tensor(1.1415)\n",
      "loss is tensor(1.1280)\n",
      "loss is tensor(1.1145)\n",
      "loss is tensor(1.1010)\n",
      "loss is tensor(1.0877)\n",
      "loss is tensor(1.0744)\n",
      "loss is tensor(1.0611)\n",
      "loss is tensor(1.0478)\n",
      "loss is tensor(1.0346)\n",
      "loss is tensor(1.0214)\n",
      "loss is tensor(1.0084)\n",
      "loss is tensor(0.9955)\n",
      "loss is tensor(0.9829)\n",
      "loss is tensor(0.9705)\n",
      "loss is tensor(0.9582)\n",
      "loss is tensor(0.9459)\n",
      "loss is tensor(0.9338)\n",
      "loss is tensor(0.9218)\n",
      "loss is tensor(0.9099)\n",
      "loss is tensor(0.8981)\n",
      "loss is tensor(0.8864)\n",
      "loss is tensor(0.8748)\n",
      "loss is tensor(0.8634)\n",
      "loss is tensor(0.8521)\n",
      "loss is tensor(0.8409)\n",
      "loss is tensor(0.8299)\n",
      "loss is tensor(0.8189)\n",
      "loss is tensor(0.8082)\n",
      "loss is tensor(0.7975)\n",
      "loss is tensor(0.7870)\n",
      "loss is tensor(0.7767)\n",
      "loss is tensor(0.7665)\n",
      "loss is tensor(0.7564)\n",
      "loss is tensor(0.7468)\n",
      "loss is tensor(0.7373)\n",
      "loss is tensor(0.7282)\n",
      "loss is tensor(0.7193)\n",
      "loss is tensor(0.7105)\n",
      "loss is tensor(0.7020)\n",
      "loss is tensor(0.6940)\n",
      "loss is tensor(0.6861)\n",
      "loss is tensor(0.6783)\n",
      "loss is tensor(0.6705)\n",
      "loss is tensor(0.6625)\n",
      "loss is tensor(0.6546)\n",
      "loss is tensor(0.6469)\n",
      "loss is tensor(0.6392)\n",
      "loss is tensor(0.6313)\n",
      "loss is tensor(0.6235)\n",
      "loss is tensor(0.6159)\n",
      "loss is tensor(0.6084)\n",
      "loss is tensor(0.6010)\n",
      "loss is tensor(0.5937)\n",
      "loss is tensor(0.5866)\n",
      "loss is tensor(0.5795)\n",
      "loss is tensor(0.5726)\n",
      "loss is tensor(0.5658)\n"
     ]
    }
   ],
   "source": [
    "lr = 0.1\n",
    "for i in range(100):\n",
    "    G = X @ W1 + B1\n",
    "    A = relu(G)\n",
    "    preds = A @ W2 + B2\n",
    "    print(\"loss is\", mse(Y, preds.flatten()))\n",
    "    grad_output = grad_mse(preds.flatten(), Y)\n",
    "    grad_output = grad_output[:, None]\n",
    "    grad_acts, grad_w2 = grad_linear(grad_output, A, W2)\n",
    "    grad_G = grad_relu(grad_acts, G)\n",
    "    _, grad_w1 = grad_linear(grad_G, X, W1)\n",
    "\n",
    "    # now update the weights\n",
    "    W1 = W1 - lr * (grad_w1)\n",
    "    W2 = W2 - lr * (grad_w2)"
   ]
  },
  {
   "cell_type": "code",
   "execution_count": 17,
   "metadata": {},
   "outputs": [
    {
     "data": {
      "text/plain": [
       "<matplotlib.collections.PathCollection at 0x1285a9048>"
      ]
     },
     "execution_count": 17,
     "metadata": {},
     "output_type": "execute_result"
    },
    {
     "data": {
      "image/png": "[encoded data removed]",
      "text/plain": [
       "<Figure size 432x288 with 1 Axes>"
      ]
     },
     "metadata": {
      "needs_background": "light"
     },
     "output_type": "display_data"
    }
   ],
   "source": [
    "plt.scatter(Y, preds)"
   ]
  }
 ],
 "metadata": {
  "kernelspec": {
   "display_name": "Python 3",
   "language": "python",
   "name": "python3"
  },
  "language_info": {
   "codemirror_mode": {
    "name": "ipython",
    "version": 3
   },
   "file_extension": ".py",
   "mimetype": "text/x-python",
   "name": "python",
   "nbconvert_exporter": "python",
   "pygments_lexer": "ipython3",
   "version": "3.7.3"
  }
 },
 "nbformat": 4,
 "nbformat_minor": 2
}
