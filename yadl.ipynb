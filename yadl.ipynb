{
 "cells": [
  {
   "cell_type": "code",
   "execution_count": 1,
   "metadata": {},
   "outputs": [],
   "source": [
    "%load_ext autoreload\n",
    "%autoreload 2\n",
    "\n",
    "%matplotlib inline"
   ]
  },
  {
   "cell_type": "code",
   "execution_count": 2,
   "metadata": {},
   "outputs": [],
   "source": [
    "from exp.nb_01 import *\n",
    "\n",
    "def get_data():\n",
    "    path = datasets.download_data(MNIST_URL, ext='.gz')\n",
    "    with gzip.open(path, 'rb') as f:\n",
    "        ((x_train, y_train), (x_valid, y_valid), _) = pickle.load(f, encoding='latin-1')\n",
    "    return map(tensor, (x_train,y_train,x_valid,y_valid))\n",
    "\n",
    "def normalize(x, mean, std):\n",
    "    return (x - mean)/std"
   ]
  },
  {
   "cell_type": "code",
   "execution_count": 3,
   "metadata": {},
   "outputs": [],
   "source": [
    "x_train,y_train,x_valid,y_valid = get_data()"
   ]
  },
  {
   "cell_type": "code",
   "execution_count": 4,
   "metadata": {},
   "outputs": [
    {
     "data": {
      "text/plain": [
       "(tensor(0.1304), tensor(0.3073))"
      ]
     },
     "execution_count": 4,
     "metadata": {},
     "output_type": "execute_result"
    }
   ],
   "source": [
    "x_train.mean(),x_train.std()"
   ]
  },
  {
   "cell_type": "code",
   "execution_count": 5,
   "metadata": {},
   "outputs": [],
   "source": [
    "train_mean,train_std = x_train.mean(),x_train.std()"
   ]
  },
  {
   "cell_type": "code",
   "execution_count": 6,
   "metadata": {},
   "outputs": [],
   "source": [
    "x_train = normalize(x_train, train_mean, train_std)\n",
    "x_valid = normalize(x_valid, train_mean, train_std)"
   ]
  },
  {
   "cell_type": "code",
   "execution_count": 7,
   "metadata": {},
   "outputs": [
    {
     "data": {
      "text/plain": [
       "(tensor(0.0001), tensor(1.))"
      ]
     },
     "execution_count": 7,
     "metadata": {},
     "output_type": "execute_result"
    }
   ],
   "source": [
    "x_train.mean(), x_train.std()"
   ]
  },
  {
   "cell_type": "code",
   "execution_count": 8,
   "metadata": {},
   "outputs": [],
   "source": [
    "# lets take a simple example of fully connected network i.e affine transformation\n",
    "# equation is y = relu(wx + b); followed by non linear operation i.e relu or prelu"
   ]
  },
  {
   "cell_type": "code",
   "execution_count": 9,
   "metadata": {},
   "outputs": [],
   "source": [
    "#export\n",
    "\n",
    "from torch import nn\n",
    "class LinearModel():\n",
    "    def __init__(self, num_in, num_out):\n",
    "        self.inp = None\n",
    "        self.out = None\n",
    "        self.wt = torch.randn([num_in, num_out]) / math.sqrt(num_in)\n",
    "        self.b = torch.zeros([num_out])\n",
    "    \n",
    "    def __call__(self, inp):\n",
    "        self.inp = inp\n",
    "        self.out =  inp @ self.wt + self.b\n",
    "        return self.out\n",
    "    \n",
    "    def backward(self, ):\n",
    "        self.wt.grad = self.inp.t() @ self.out.grad\n",
    "        self.inp.grad = self.out.grad @ self.wt.t()\n",
    "        self.b.grad = self.out.grad.sum(0)\n",
    "\n",
    "class Relu():\n",
    "    def __init__(self,):\n",
    "        self.inp = None\n",
    "        self.out = None\n",
    "    \n",
    "    def __call__(self, inp):\n",
    "        self.inp = inp\n",
    "        self.out = inp.clamp_(0,)\n",
    "        return self.out\n",
    "    \n",
    "    def backward(self, ):\n",
    "        self.inp.grad = ( self.inp > 0 ).float() * self.out.grad \n",
    "        \n",
    "class Mse():\n",
    "    def __init__(self, ):\n",
    "        self.inp = None\n",
    "        self.out = None\n",
    "    \n",
    "    def __call__(self, output, target):\n",
    "        self.inp = output\n",
    "        self.out = target\n",
    "        return((output.squeeze() - target).pow(2)).mean()\n",
    "    \n",
    "    def backward(self,):\n",
    "        self.inp.grad = ((self.inp.squeeze() - self.out) / self.inp.shape[0]).unsqueeze(-1)\n",
    "\n",
    "class Sequential():\n",
    "    def __init__(self, lr=0.01, layers=[],  loss_fn=None,):\n",
    "        self.models = []   \n",
    "        self.loss_fn = loss_fn\n",
    "        if not loss_fn:\n",
    "            self.loss_fn = Mse()            \n",
    "            \n",
    "        self.lr = lr\n",
    "        for i in range(len(layers) - 1):  \n",
    "            self.models.append(LinearModel(layers[i], layers[i + 1]))\n",
    "            self.models.append(Relu())\n",
    "        self.models.append(LinearModel(layers[-1], 1))\n",
    "    \n",
    "    def __call__(self, inp, targ):\n",
    "        x = inp\n",
    "        for model in self.models:\n",
    "            x = model(x)\n",
    "        return self.loss_fn(x, targ)\n",
    "    \n",
    "    def backward(self, ):\n",
    "        self.loss_fn.backward()\n",
    "        for model in reversed(self.models):\n",
    "            model.backward()\n",
    "    \n",
    "    def update(self, ):\n",
    "        for model in self.models:\n",
    "            if hasattr(model, \"wt\"):\n",
    "                model.wt = model.wt - (self.lr * model.wt.grad)"
   ]
  },
  {
   "cell_type": "code",
   "execution_count": 124,
   "metadata": {},
   "outputs": [],
   "source": [
    "class PyMod(nn.Module):\n",
    "    def __init__(self, num_hidden=[]):\n",
    "        super().__init__()\n",
    "        layers = []\n",
    "        for i in range(len(num_hidden) - 1):  \n",
    "            l = nn.Linear(num_hidden[i], num_hidden[i + 1])\n",
    "            layers.append(l)\n",
    "            #self.add_module(f'layer_{i}', l)\n",
    "            if (i + 1) < (len(num_hidden) - 1):\n",
    "                layers.append(nn.ReLU())\n",
    "        self.layers = nn.ModuleList(layers)\n",
    "        \n",
    "    def __call__(self, x):\n",
    "        for l in self.layers:\n",
    "            x = l(x)\n",
    "        return x\n",
    "            "
   ]
  },
  {
   "cell_type": "code",
   "execution_count": 59,
   "metadata": {},
   "outputs": [],
   "source": [
    "def log_softmax(x):return torch.log(x.exp() / (x.exp().sum(dim=-1,keepdim=True)))\n",
    "def nll(input, target): return -input[range(target.shape[0]), target].mean()"
   ]
  },
  {
   "cell_type": "code",
   "execution_count": 50,
   "metadata": {},
   "outputs": [
    {
     "name": "stdout",
     "output_type": "stream",
     "text": [
      "torch.Size([1, 3])\n"
     ]
    }
   ],
   "source": [
    "x = torch.tensor([1,2,3]).float()\n",
    "print(softmax(x[None,]).shape)"
   ]
  },
  {
   "cell_type": "code",
   "execution_count": 11,
   "metadata": {},
   "outputs": [
    {
     "data": {
      "text/plain": [
       "<function torch.nn.functional.relu(input, inplace=False)>"
      ]
     },
     "execution_count": 11,
     "metadata": {},
     "output_type": "execute_result"
    }
   ],
   "source": [
    "torch.functional.F.relu"
   ]
  },
  {
   "cell_type": "code",
   "execution_count": 60,
   "metadata": {},
   "outputs": [
    {
     "name": "stdout",
     "output_type": "stream",
     "text": [
      "loss  tensor(32.0264)\n"
     ]
    }
   ],
   "source": [
    "if __name__ == \"__main__\":\n",
    "    lr = 0.01\n",
    "    epoch = 1\n",
    "    y_train, y_valid = y_train.float(), y_valid.float()\n",
    "    seq = Sequential(lr=lr, layers=[784, 50])\n",
    "    for i in range(epoch):\n",
    "        loss = seq(x_train, y_train)\n",
    "        if i % 10 == 0:\n",
    "            print(\"loss \", loss)\n",
    "\n",
    "        seq.backward()\n",
    "        seq.update()"
   ]
  },
  {
   "cell_type": "code",
   "execution_count": 136,
   "metadata": {},
   "outputs": [],
   "source": [
    "def fit(model, bs, num_epochs):\n",
    "    for i in range(num_epochs):\n",
    "        for j in range((n-1)//bs + 1):\n",
    "            start_j = j*bs\n",
    "            end_j = start_j+bs\n",
    "            xb = x_train[start_j:end_j]\n",
    "            yb = y_train[start_j:end_j]    \n",
    "            pred = model(xb)\n",
    "            l = log_softmax(pred)\n",
    "            loss = nll(log_softmax(pred), yb)\n",
    "            loss.backward()\n",
    "            with torch.no_grad():\n",
    "                for l in model.layers():\n",
    "                    if hasattr(l, 'weight'):\n",
    "                        l.weight -= l.weight.grad * lr\n",
    "                        l.bias   -= l.bias.grad   * lr                \n",
    "                        l.weight.grad.zero_()\n",
    "                        l.bias.grad.zero_()                \n",
    "        if i % 10 == 0:\n",
    "            print(\"loss \", loss)"
   ]
  },
  {
   "cell_type": "code",
   "execution_count": null,
   "metadata": {},
   "outputs": [],
   "source": [
    "def fit(model, bs, num_epochs):\n",
    "    for i in range(num_epochs):\n",
    "        for j in range((n-1)//bs + 1):\n",
    "            start_j = j*bs\n",
    "            end_j = start_j+bs\n",
    "            xb = x_train[start_j:end_j]\n",
    "            yb = y_train[start_j:end_j]    \n",
    "            pred = model(xb)\n",
    "            l = log_softmax(pred)\n",
    "            loss = nll(log_softmax(pred), yb)\n",
    "            loss.backward()\n",
    "            with torch.no_grad():\n",
    "                for p in model.parameters(): \n",
    "                    p -= p.grad * lr\n",
    "                    p.grad.zero_()\n",
    "        if i % 10 == 0:\n",
    "            print(\"loss \", loss)"
   ]
  },
  {
   "cell_type": "code",
   "execution_count": 149,
   "metadata": {},
   "outputs": [],
   "source": [
    "from torch import optim"
   ]
  },
  {
   "cell_type": "code",
   "execution_count": 151,
   "metadata": {},
   "outputs": [],
   "source": [
    "def fit(model, lr, bs, num_epochs):\n",
    "    opt = optim.SGD(model.parameters(), lr)\n",
    "    for i in range(num_epochs):\n",
    "        for j in range((n-1)//bs + 1):\n",
    "            start_j = j*bs\n",
    "            end_j = start_j+bs\n",
    "            xb = x_train[start_j:end_j]\n",
    "            yb = y_train[start_j:end_j]    \n",
    "            pred = model(xb)\n",
    "            l = log_softmax(pred)\n",
    "            loss = nll(log_softmax(pred), yb)\n",
    "            loss.backward()\n",
    "            opt.step()\n",
    "            opt.zero_grad()\n",
    "        if i % 10 == 0:\n",
    "            print(\"loss \", loss)"
   ]
  },
  {
   "cell_type": "code",
   "execution_count": 115,
   "metadata": {},
   "outputs": [
    {
     "name": "stdout",
     "output_type": "stream",
     "text": [
      "layers: ModuleList(\n",
      "  (0): Linear(in_features=784, out_features=50, bias=True)\n",
      "  (1): ReLU()\n",
      "  (2): Linear(in_features=50, out_features=10, bias=True)\n",
      ")\n"
     ]
    }
   ],
   "source": [
    "for name,l in pyMod.named_children(): \n",
    "    print(f\"{name}: {l}\")"
   ]
  },
  {
   "cell_type": "code",
   "execution_count": 138,
   "metadata": {},
   "outputs": [
    {
     "name": "stdout",
     "output_type": "stream",
     "text": [
      "loss  tensor(0.7642, grad_fn=<NegBackward>)\n",
      "loss  tensor(0.0898, grad_fn=<NegBackward>)\n"
     ]
    }
   ],
   "source": [
    "pyMod = PyMod(num_hidden=[784, 50, 10])\n",
    "n = x_train.shape[0]\n",
    "lr = 0.01\n",
    "bs = 64\n",
    "num_epochs = 11\n",
    "fit(pyMod, bs, num_epochs)"
   ]
  },
  {
   "cell_type": "code",
   "execution_count": 152,
   "metadata": {},
   "outputs": [
    {
     "name": "stdout",
     "output_type": "stream",
     "text": [
      "loss  tensor(0.7746, grad_fn=<NegBackward>)\n",
      "loss  tensor(0.1493, grad_fn=<NegBackward>)\n"
     ]
    }
   ],
   "source": [
    "model = nn.Sequential(nn.Linear(784,50), nn.ReLU(), nn.Linear(50,10))\n",
    "n = x_train.shape[0]\n",
    "lr = 0.01\n",
    "bs = 64\n",
    "num_epochs = 11\n",
    "fit(model, lr, bs, num_epochs)"
   ]
  },
  {
   "cell_type": "code",
   "execution_count": 14,
   "metadata": {},
   "outputs": [
    {
     "name": "stdout",
     "output_type": "stream",
     "text": [
      "Converted yadl.ipynb to nb_yadl.py\r\n"
     ]
    }
   ],
   "source": [
    "!./notebook2script.py yadl.ipynb"
   ]
  }
 ],
 "metadata": {
  "kernelspec": {
   "display_name": "Python 3",
   "language": "python",
   "name": "python3"
  },
  "language_info": {
   "codemirror_mode": {
    "name": "ipython",
    "version": 3
   },
   "file_extension": ".py",
   "mimetype": "text/x-python",
   "name": "python",
   "nbconvert_exporter": "python",
   "pygments_lexer": "ipython3",
   "version": "3.6.8"
  }
 },
 "nbformat": 4,
 "nbformat_minor": 2
}
